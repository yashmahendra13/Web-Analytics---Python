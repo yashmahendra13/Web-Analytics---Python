{
 "cells": [
  {
   "cell_type": "markdown",
   "metadata": {},
   "source": [
    "# <center>Regular Expressions</center>\n",
    "\n",
    "References:\n",
    "- http://www.tutorialspoint.com/python/python_reg_expressions.htm\n",
    "- https://developers.google.com/edu/python/regular-expressions"
   ]
  },
  {
   "cell_type": "markdown",
   "metadata": {},
   "source": [
    "## 1. What is a regular expression\n",
    "- A regular expression is a special sequence of characters that helps you match or find other strings or sets of strings, using a specialized syntax held in a **pattern**. \n",
    "- Regular expressions are widely used in UNIX world\n",
    "- <font color=\"green\">**re**</font> is the built-in python package for regular expressions\n",
    "- Other modules such as BeautifulSoup, NLTK also use regular expressions"
   ]
  },
  {
   "cell_type": "markdown",
   "metadata": {},
   "source": [
    "## 2. Useful Regular Expression Patterns\n",
    "\n",
    "| Pattern     | Description                                                              |\n",
    "| :------------|:----------------------------------------------------------------------------|\n",
    "| ^           | Matches beginning of line                                        |\n",
    "| $           | Matches end of line                                               |\n",
    "| .           | Matches any single character except newline.                              |\n",
    "| [...]       | Matches any single character in brackets. e.g. [ab] matches either a or b                                  |\n",
    "| [^...]      | Matches any single character not in brackets                               |\n",
    "| \\*           | Matches 0 or more occurrences of preceding expression                      |\n",
    "| +           | Matches 1 or more occurrence of preceding expression                       |\n",
    "| ?           | Matches 0 or 1 occurrence of preceding expression                          |\n",
    "| {n}         | Matches exactly n number of occurrences of preceding expression            |\n",
    "| {n,}        | Matches n or more occurrences of preceding expression.                     |\n",
    "| {n,m}       | Matches at least n and at most m occurrences of preceding expression       |\n",
    "| a&#124;b    | Matches either a or b                                                      |\n",
    "| ( )         | Group regular expressions and remember matched text                        |\n",
    "| \\w          | Matches word characters, i.e. ASCII characters [A-Za-z0-9_].                                                    |\n",
    "| \\W          | Matches nonword characters                                                 |\n",
    "| \\s          | Matches whitespace. Equivalent to [ \\t\\n\\r\\f]                               |\n",
    "| \\S          | Matches nonwhitespace                                                      |\n",
    "| \\d          | Matches digits. Equivalent to [0-9]                                        |\n",
    "| \\D          | Matches nondigits                                                          |\n",
    "| [0-9]       | Match any digit; same as [0123456789]                                      |\n",
    "| [a-z]       | Match any lowercase ASCII letter                                           |\n",
    "| [A-Z]       | Match any uppercase ASCII letter                                           |\n",
    "| [a-zA-Z0-9] | Match any of number or alphabetic letter                                   |\n",
    "| [^0-9]      |Match anything other than a digit                                           |\n",
    "\n",
    "<div class=\"alert alert-block alert-info\"> Various characters (e.g. '\\n'), which would have special meaning in Python, could cause confusion when they are used in regular expression. To avoid such confusion, it is recommended to use <b>Raw Strings</b> as r'expression' (e.g. **r'**\\n').\n",
    "\n",
    "For example, \"\\n\" means new line in python. With prefix **r**, \"r'\\n'\" is two characters - a backslash and the the letter 'n' (i.e. they are treated literarally instead of signifying a new line).\n",
    "</div>\n",
    "\n",
    "<div class=\"alert alert-block alert-info\"> However, to match with characters such as |, \\, etc., which have special meaning in regular expression, use escape character \"**\\**\".</div>"
   ]
  },
  {
   "cell_type": "markdown",
   "metadata": {},
   "source": [
    "## 3. Regular Expression Functions\n",
    "- <font color=\"green\">**match(pattern, string, flags=0)**</font>: match *pattern* to *string* from the beginning. The re.match function returns a match object on success, None on failure. We use group() function of match object to get matched expression.\n",
    "- <font color=\"green\">**search(pattern, string, flags=0)**</font>: match *pattern* to *string*, similar to <font color=\"green\">**match**</font>. The difference between <font color=\"green\">**match**</font> and <font color=\"green\">**search**</font> is: <font color=\"green\">**match**</font> checks for a match only at the **beginning** of the string, while <font color=\"green\">**search**</font> checks for a match **anywhere** in the string\n",
    "- <font color=\"green\">**findall(pattern, string, flags=0)**</font>: find **all occurrences** of the *pattern* in *string* and save the result into a list. Note that **match** and **search** functions only find the **first match**.\n",
    "- <font color=\"green\">**sub(pattern, repl, string, max=0)**</font>: replaces all occurrences of the *pattern* in *string* with *repl*, substituting all occurrences unless *max* provided. This method returns modified string.\n"
   ]
  },
  {
   "cell_type": "code",
   "execution_count": null,
   "metadata": {
    "collapsed": true
   },
   "outputs": [],
   "source": [
    "from IPython.core.interactiveshell import InteractiveShell\n",
    "InteractiveShell.ast_node_interactivity = \"all\"\n",
    "\n",
    "import re    # import re module"
   ]
  },
  {
   "cell_type": "code",
   "execution_count": null,
   "metadata": {
    "collapsed": true
   },
   "outputs": [],
   "source": [
    "# Exercise 3.1. match function\n",
    "\n",
    "\n",
    "text=\"The cat catches a rat\"\n",
    "\n",
    "# match is to find the pattern in the \n",
    "# string from ***the beginning***\n",
    "# if found, a match object is returned\n",
    "# otherwise, None\n",
    "\n",
    "match= re.match(r'cat', text)\n",
    "if match:\n",
    "    print (\"find cat!\")\n",
    "else:\n",
    "    print (\"not found!\")"
   ]
  },
  {
   "cell_type": "code",
   "execution_count": null,
   "metadata": {
    "collapsed": true
   },
   "outputs": [],
   "source": [
    "# Exercise 3.2. match with any preceding characters\n",
    "\n",
    "# change the pattern to allow any characters preceding \"cat\"\n",
    "# it always returns the longest match\n",
    "\n",
    "text=\"The cat catches a rat\"\n",
    "match= re.match(r'.*cat', text)\n",
    "if match:\n",
    "    print (match.group())\n",
    "else:\n",
    "    print (\"not found!\")\n",
    "    "
   ]
  },
  {
   "cell_type": "code",
   "execution_count": null,
   "metadata": {
    "collapsed": true
   },
   "outputs": [],
   "source": [
    "# Exercise 3.3. search function\n",
    "\n",
    "# search is to find the pattern in the string \n",
    "# from ***any position***\n",
    "# group() is the function to return matched string\n",
    "\n",
    "text=\"The cat catches a rat\"\n",
    "\n",
    "match= re.search(r'cat',text)\n",
    "if match:\n",
    "    print (\"find cat!\")\n",
    "    print (match.group())\n",
    "else:\n",
    "    print (\"not found!\")"
   ]
  },
  {
   "cell_type": "code",
   "execution_count": null,
   "metadata": {
    "collapsed": true
   },
   "outputs": [],
   "source": [
    "# Exercise 3.4. findall function\n",
    "\n",
    "# find all \"cat\" substrings in text\n",
    "\n",
    "text=\"The cat catches a rat\"\n",
    "\n",
    "match= re.findall(r'cat', text)\n",
    "print (match)"
   ]
  },
  {
   "cell_type": "code",
   "execution_count": null,
   "metadata": {
    "collapsed": true
   },
   "outputs": [],
   "source": [
    "# Exercise 3.5. sub function\n",
    "\n",
    "# replace all \"cat\" substrings in text with 'CAT'\n",
    "\n",
    "text=\"The cat catches a rat\"\n",
    "\n",
    "match= re.sub(r'cat','CAT', text)\n",
    "print (match)"
   ]
  },
  {
   "cell_type": "code",
   "execution_count": null,
   "metadata": {
    "collapsed": true
   },
   "outputs": [],
   "source": [
    "# Exercise 3.6. case insensitive search\n",
    "\n",
    "# flag re.I means case insensitive. \n",
    "# It can be applied to search, match, findall, and sub\n",
    "\n",
    "# find all \"t\" or \"T\"     \n",
    "\n",
    "text=\"The cat catches a rat\"\n",
    "\n",
    "match= re.findall(r't', text, re.I)                      \n",
    "print (match)"
   ]
  },
  {
   "cell_type": "code",
   "execution_count": null,
   "metadata": {
    "collapsed": true
   },
   "outputs": [],
   "source": [
    "# Exercise 3.7. Match with capturing groups (i.e. \"()\")\n",
    "\n",
    "m = re.match(r\"(\\w+) (\\w+)\", \"Isaac Newton, physicist\")\n",
    "\n",
    "# group() or group(0) always returns the whole text that was matched \n",
    "# no matter if it was captured in a group or not\n",
    "print(m.group())\n",
    "print(m.group(0))\n",
    "\n",
    "# refer to each group by index starting from 1\n",
    "print(\"first word:\", m.group(1))\n",
    "print(\"second word:\", m.group(2))\n",
    "print(\"first & second groups:\", m.group(1,2))"
   ]
  },
  {
   "cell_type": "markdown",
   "metadata": {},
   "source": [
    "## 4. Expression pattern examples"
   ]
  },
  {
   "cell_type": "code",
   "execution_count": null,
   "metadata": {
    "collapsed": true
   },
   "outputs": [],
   "source": [
    "# Exercise 4.1. Replace line breaks with a single space\n",
    "\n",
    "text='''first\n",
    "        second'''\n",
    "\n",
    "# \\s matches with whitespaces, includeing line breaks, \n",
    "# tabs, spaces etc. + means one or more\n",
    "print (re.sub(r\"\\s+\", ' ',text)  ) "
   ]
  },
  {
   "cell_type": "code",
   "execution_count": null,
   "metadata": {
    "collapsed": true
   },
   "outputs": [],
   "source": [
    "# Exercise 4.2. Tokenization: Get words out of a paragraph\n",
    "text='Regular expressions (\"re\") are a powerful language for matching text patterns.' \n",
    "\n",
    "# We use \"split\" to get words, but punctuation will be included\n",
    "tokens_with_punctuation=text.split(\" \")\n",
    "print (tokens_with_punctuation)\n",
    "\n",
    "# Use regular expression to tokenize\n",
    "# get substrings only containing word characters\n",
    "tokens=re.findall(r'\\w+', text)           \n",
    "print (tokens)"
   ]
  },
  {
   "cell_type": "code",
   "execution_count": null,
   "metadata": {
    "collapsed": true
   },
   "outputs": [],
   "source": [
    "# Exercise 4.3. find phone number\n",
    "text = \"201-959-5599 # This is Phone Number\"\n",
    "\n",
    "# \\d matches with any number, \n",
    "# {n} means n number of preceding characters are needed\n",
    "phones = re.findall(r'\\d{3}\\-\\d{3}\\-\\d{4}', text)\n",
    "print (phones)"
   ]
  },
  {
   "cell_type": "code",
   "execution_count": null,
   "metadata": {
    "collapsed": true
   },
   "outputs": [],
   "source": [
    "# Exercise 4.4. find email address\n",
    "text = \"email me at joe.doe@example1.com or at abc-xyz@example2.edu\"\n",
    "\n",
    "# [a-zA-Z0-9\\.\\-_] means any alphabetic character, \n",
    "# number, .(dot), -, and _ is allowed\n",
    "# note .(dot) and - have special meaning. \n",
    "# They need to be escaped using \"\\\".\n",
    "emails = re.findall(r'[a-zA-Z0-9\\.\\-_]+@[a-zA-Z0-9\\.\\-_]+', \\\n",
    "                    text)\n",
    "print (emails)"
   ]
  },
  {
   "cell_type": "code",
   "execution_count": null,
   "metadata": {
    "collapsed": true
   },
   "outputs": [],
   "source": [
    "# Exercise 4.5. Find topics (starting with #) in the list of tokens\n",
    "\n",
    "tokens=['#Blockchain','Block#chain','Decentralized', 'education','economy','#EDU', '#cryptocurrency', ]\n",
    "\n",
    "# retrive a token if it satisfies the following:\n",
    "# a. starts with \"#\" (^)\n",
    "# b. has at least one word character (\\w+)\n",
    "\n",
    "tags=[token for token in tokens if re.search(r'^#\\w+', token)]\n",
    "print(tags)\n",
    "\n",
    "# or using match (search from beginning) without the need of \"^\"\n",
    "[token for token in tokens if re.match(r'#\\w+', token)]"
   ]
  },
  {
   "cell_type": "code",
   "execution_count": null,
   "metadata": {
    "collapsed": true
   },
   "outputs": [],
   "source": [
    "# Exercise 4.6. Find sentences ending with a question mark (?)\n",
    "\n",
    "sentences=['Where you going?','Come here!', \\\n",
    "        'I\\'m leaving.','Where are you?', \\\n",
    "        'Put a question mark (?) at the end.']\n",
    "\n",
    "# note \"?\" is a reserved word in re\n",
    "# scape it using \"\\\"\n",
    "\n",
    "questions=[s for s in sentences if re.match(r'.+\\?$', s)]\n",
    "print(questions)\n",
    "\n"
   ]
  },
  {
   "cell_type": "code",
   "execution_count": null,
   "metadata": {
    "collapsed": true
   },
   "outputs": [],
   "source": [
    "# Exercise 4.7. Class exercise\n",
    "\n",
    "ss=[ 'acbacb','abbcbb', 'babbbac','A_B_C_','A_bb_c']\n",
    "\n",
    "#1. find strings each has an \"a\" followed by zero or one 'b's\n",
    "\n",
    "\n",
    "#2. find strings each has an \"a\" followed by one or more 'b's\n",
    "\n",
    "\n",
    "#3. find strings each has an \"a\" followed by three 'b's\n",
    "\n",
    "\n",
    "#4. find strings each has an 'a' followed by anything, ending in 'b'\n",
    "\n",
    "\n",
    "#5. find strings each has uppercase letters joined by a underscore\n",
    "\n",
    "\n",
    "#6. find strings containing 'b', not at its start or end\n",
    "\n"
   ]
  }
 ],
 "metadata": {
  "kernelspec": {
   "display_name": "Python 3",
   "language": "python",
   "name": "python3"
  },
  "language_info": {
   "codemirror_mode": {
    "name": "ipython",
    "version": 3
   },
   "file_extension": ".py",
   "mimetype": "text/x-python",
   "name": "python",
   "nbconvert_exporter": "python",
   "pygments_lexer": "ipython3",
   "version": "3.6.1"
  }
 },
 "nbformat": 4,
 "nbformat_minor": 2
}
