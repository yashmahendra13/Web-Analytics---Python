{
 "cells": [
  {
   "cell_type": "markdown",
   "metadata": {},
   "source": [
    "# <center>Assignment 2</center>"
   ]
  },
  {
   "cell_type": "markdown",
   "metadata": {},
   "source": [
    "## 1. Define a function to analyze a numpy array\n",
    " - Assume we have an array which contains term frequency of each document. Where each row is a document, each column is a word, and the value denotes the frequency of the word in the document. Define a function named \"analyze_tf\" which:\n",
    "      * takes the array as an input\n",
    "      * normalizes the frequency of each word as: word frequency divided by the length of the document. Save the result as an array named **tf** (i.e. term frequency)\n",
    "      * calculates the document frequency (**df**) of each word, e.g. how many documents contain a specific word\n",
    "      * calculates **tf_idf** array as: **tf / df** (tf divided by df). The reason is, if a word appears in most documents, it does not have the discriminative power and often is called a \"stop\" word. The inverse of df can downgrade the weight of such words.\n",
    "      * for each document, find out the **indexes of words with top 3 largest values in the tf_idf array**. Print out these indexes.\n",
    "      * return the tf_idf array.\n",
    " - Note, for all the steps, ** do not use any loop**. Just use array functions and broadcasting for high performance computation."
   ]
  },
  {
   "cell_type": "markdown",
   "metadata": {},
   "source": [
    "## 2. Define a function to analyze car dataset using pandas\n",
    " - Define a function named \"analyze_cars\" to do the follows:\n",
    "   * Read \"cars.csv\" as a dataframe with the first row in the csv file as column names\n",
    "   * Sort the data by \"cylinders\" and \"mpg\" in decending order and report the first three rows after sorting\n",
    "   * Create a new column called \"brand\" to store the brand name as the first word in \"car\" column (hint: use \"apply\" function)\n",
    "   * Show the mean, min, and max acceleration values by \"cylinders\" for each of these brands: \"ford\", \"buick\" and \"honda\"\n",
    "   * Create a cross tab to show the average mpg of each brand and each clinder value. Use \"brand\" as row index and \"clinders\" as column index. \n",
    " - This function does not have any return. Just print out the result of each calculation step."
   ]
  },
  {
   "cell_type": "markdown",
   "metadata": {},
   "source": [
    "## Submission Guideline##\n",
    "- Following the solution template provided below. Use __main__ block to test your functions\n",
    "- Save your code into a python file (e.g. assign1.py) that can be run in a python 3 environment. In Jupyter Notebook, you can export notebook as .py file in menu \"File->Download as\".\n",
    "- Make sure you have all import statements. To test your code, open a command window in your current python working folder, type \"python assign1.py\" to see if it can run successfully."
   ]
  },
  {
   "cell_type": "code",
   "execution_count": null,
   "metadata": {
    "collapsed": true
   },
   "outputs": [],
   "source": [
    "# Structure of your solution to Assignment 1 \n",
    "\n",
    "import numpy as np\n",
    "\n",
    "\n",
    "def analyze_tf(arr):\n",
    "    \n",
    "    tf_idf=None\n",
    "    \n",
    "    # add your code\n",
    "    \n",
    "    return tf_idf\n",
    "\n",
    "def analyze_cars():\n",
    "    \n",
    "    # add your code\n",
    "\n",
    "\n",
    "\n",
    "\n",
    "# best practice to test your class\n",
    "# if your script is exported as a module,\n",
    "# the following part is ignored\n",
    "# this is equivalent to main() in Java\n",
    "\n",
    "if __name__ == \"__main__\":  \n",
    "    \n",
    "    #1 Test Question 1\n",
    "    arr=np.random.randint(0,3,(4,8))\n",
    "\n",
    "    tf_idf=analyze_tf(arr)\n",
    "    \n",
    "    # Test Question 2\n",
    "    analyze_cars()"
   ]
  },
  {
   "cell_type": "code",
   "execution_count": null,
   "metadata": {
    "collapsed": true
   },
   "outputs": [],
   "source": []
  }
 ],
 "metadata": {
  "kernelspec": {
   "display_name": "Python 3",
   "language": "python",
   "name": "python3"
  },
  "language_info": {
   "codemirror_mode": {
    "name": "ipython",
    "version": 3
   },
   "file_extension": ".py",
   "mimetype": "text/x-python",
   "name": "python",
   "nbconvert_exporter": "python",
   "pygments_lexer": "ipython3",
   "version": "3.6.1"
  }
 },
 "nbformat": 4,
 "nbformat_minor": 2
}
