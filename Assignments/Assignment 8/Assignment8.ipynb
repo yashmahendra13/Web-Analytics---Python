{
 "cells": [
  {
   "cell_type": "code",
   "execution_count": 8,
   "metadata": {
    "collapsed": true
   },
   "outputs": [],
   "source": [
    "from keras.layers import Embedding, Dense, Conv1D, MaxPooling1D, \\\n",
    "Dropout, Activation, Input, Flatten, Concatenate\n",
    "from keras.models import Model\n",
    "from keras.regularizers import l2\n",
    "from keras.callbacks import EarlyStopping, ModelCheckpoint\n",
    "              \n",
    "def cnn_model(FILTER_SIZES, \\\n",
    "              # filter sizes as a list\n",
    "              MAX_NB_WORDS, \\\n",
    "              # total number of words\n",
    "              MAX_DOC_LEN, \\\n",
    "              # max words in a doc\n",
    "              EMBEDDING_DIM=200, \\\n",
    "              # word vector dimension\n",
    "              NUM_FILTERS=64, \\\n",
    "              # number of filters for all size\n",
    "              DROP_OUT=0.5, \\\n",
    "              # dropout rate\n",
    "              NUM_OUTPUT_UNITS=1, \\\n",
    "              # number of output units\n",
    "              NUM_DENSE_UNITS=100,\\\n",
    "              # number of units in dense layer\n",
    "              PRETRAINED_WORD_VECTOR=None,\\\n",
    "              # Whether to use pretrained word vectors\n",
    "              LAM=0.0):            \n",
    "              # regularization coefficient\n",
    "    \n",
    "    main_input = Input(shape=(MAX_DOC_LEN,), \\\n",
    "                       dtype='int32', name='main_input')\n",
    "    \n",
    "    if PRETRAINED_WORD_VECTOR is not None:\n",
    "        embed_1 = Embedding(input_dim=MAX_NB_WORDS+1, \\\n",
    "                        output_dim=EMBEDDING_DIM, \\\n",
    "                        input_length=MAX_DOC_LEN, \\\n",
    "                        weights=[PRETRAINED_WORD_VECTOR],\\\n",
    "                        trainable=False,\\\n",
    "                        name='embedding')(main_input)\n",
    "    else:\n",
    "        embed_1 = Embedding(input_dim=MAX_NB_WORDS+1, \\\n",
    "                        output_dim=EMBEDDING_DIM, \\\n",
    "                        input_length=MAX_DOC_LEN, \\\n",
    "                        name='embedding')(main_input)\n",
    "    # add convolution-pooling-flat block\n",
    "    conv_blocks = []\n",
    "    for f in FILTER_SIZES:\n",
    "        conv = Conv1D(filters=NUM_FILTERS, kernel_size=f, \\\n",
    "                      activation='relu', name='conv_'+str(f))(embed_1)\n",
    "        conv = MaxPooling1D(MAX_DOC_LEN-f+1, name='max_'+str(f))(conv)\n",
    "        conv = Flatten(name='flat_'+str(f))(conv)\n",
    "        conv_blocks.append(conv)\n",
    "    \n",
    "    if len(conv_blocks)>1:\n",
    "        z=Concatenate(name='concate')(conv_blocks)\n",
    "    else:\n",
    "        z=conv_blocks[0]\n",
    "        \n",
    "    drop=Dropout(rate=DROP_OUT, name='dropout')(z)\n",
    "\n",
    "    dense = Dense(NUM_DENSE_UNITS, activation='relu',\\\n",
    "                    kernel_regularizer=l2(LAM),name='dense')(drop)\n",
    "    preds = Dense(NUM_OUTPUT_UNITS, activation='sigmoid', name='output')(dense)\n",
    "    model = Model(inputs=main_input, outputs=preds)\n",
    "    \n",
    "    model.compile(loss=\"binary_crossentropy\", \\\n",
    "              optimizer=\"adam\", metrics=[\"accuracy\"]) \n",
    "    \n",
    "    return model"
   ]
  },
  {
   "cell_type": "code",
   "execution_count": 70,
   "metadata": {},
   "outputs": [
    {
     "name": "stdout",
     "output_type": "stream",
     "text": [
      "       id  sentiment                                             review\n",
      "0  5814_8          1  With all this stuff going down at the moment w...\n",
      "1  2381_9          1  \\The Classic War of the Worlds\\\" by Timothy Hi...\n",
      "2  7759_3          0  The film starts with a manager (Nicholas Bell)...\n",
      "3  3630_4          0  It must be assumed that those who praised this...\n",
      "4  9495_8          1  Superbly trashy and wondrously unpretentious 8...\n"
     ]
    },
    {
     "data": {
      "text/plain": [
       "25000"
      ]
     },
     "execution_count": 70,
     "metadata": {},
     "output_type": "execute_result"
    }
   ],
   "source": [
    "import pandas as pd\n",
    "import nltk,string\n",
    "\n",
    "# Load data\n",
    "data=pd.read_csv('../dataset/imdb_reviews.csv', header=0, sep=\"\\t\")\n",
    "#data.columns=['label','text']\n",
    "#data['label']=data['label'].apply(lambda x:x-1)\n",
    "print(data.head())\n",
    "len(data)\n"
   ]
  },
  {
   "cell_type": "code",
   "execution_count": 71,
   "metadata": {
    "collapsed": true
   },
   "outputs": [],
   "source": [
    "from sklearn.utils import shuffle\n",
    "data=shuffle(data)\n",
    "train_set=data.iloc[0:1000]\n",
    "test_set=data.iloc[1000:1200]"
   ]
  },
  {
   "cell_type": "code",
   "execution_count": 73,
   "metadata": {
    "collapsed": true
   },
   "outputs": [],
   "source": [
    "train_set[[\"review\",\"sentiment\"]].to_csv(\"train.csv\", header=True, index=False)\n",
    "test_set[[\"review\",\"sentiment\"]].to_csv(\"test.csv\", header=True, index=False)"
   ]
  },
  {
   "cell_type": "code",
   "execution_count": 63,
   "metadata": {
    "collapsed": true
   },
   "outputs": [],
   "source": [
    "\n",
    "from keras.preprocessing.text import Tokenizer\n",
    "from keras.preprocessing.sequence import pad_sequences\n",
    " \n",
    "import numpy as np\n",
    "\n",
    "# set the maximum number of words to be used\n",
    "MAX_NB_WORDS=12000\n",
    "\n",
    "# set sentence/document length\n",
    "MAX_DOC_LEN=1000\n",
    "\n",
    "# get a Keras tokenizer\n",
    "# https://keras.io/preprocessing/text/\n",
    "tokenizer = Tokenizer(num_words=MAX_NB_WORDS)\n",
    "tokenizer.fit_on_texts(train_set[\"review\"])\n",
    "\n",
    "# convert each document to a list of word index as a sequence\n",
    "sequences = tokenizer.texts_to_sequences(train_set[\"review\"])\n",
    "\n",
    "# pad all sequences into the same length \n",
    "# if a sentence is longer than maxlen, pad it in the right\n",
    "# if a sentence is shorter than maxlen, truncate it in the right\n",
    "padded_sequences = pad_sequences(sequences, \\\n",
    "                                 maxlen=MAX_DOC_LEN, \\\n",
    "                                 padding='post', \\\n",
    "                                 truncating='post')\n",
    "\n",
    "test_sequences = tokenizer.texts_to_sequences(test_set[\"review\"])\n",
    "\n",
    "# pad all sequences into the same length \n",
    "# if a sentence is longer than maxlen, pad it in the right\n",
    "# if a sentence is shorter than maxlen, truncate it in the right\n",
    "padded_test_sequences = pad_sequences(test_sequences, \\\n",
    "                                 maxlen=MAX_DOC_LEN, \\\n",
    "                                 padding='post', \\\n",
    "                                 truncating='post')\n",
    "\n"
   ]
  },
  {
   "cell_type": "code",
   "execution_count": 64,
   "metadata": {},
   "outputs": [
    {
     "data": {
      "text/plain": [
       "18759"
      ]
     },
     "execution_count": 64,
     "metadata": {},
     "output_type": "execute_result"
    }
   ],
   "source": [
    "len(tokenizer.word_counts)"
   ]
  },
  {
   "cell_type": "code",
   "execution_count": 66,
   "metadata": {},
   "outputs": [
    {
     "name": "stdout",
     "output_type": "stream",
     "text": [
      "Train on 1000 samples, validate on 200 samples\n",
      "Epoch 1/100\n",
      "Epoch 00000: val_acc improved from -inf to 0.54500, saving model to best_model\n",
      "19s - loss: 0.6971 - acc: 0.4900 - val_loss: 0.6774 - val_acc: 0.5450\n",
      "Epoch 2/100\n",
      "Epoch 00001: val_acc improved from 0.54500 to 0.70000, saving model to best_model\n",
      "19s - loss: 0.6330 - acc: 0.7020 - val_loss: 0.6183 - val_acc: 0.7000\n",
      "Epoch 3/100\n",
      "Epoch 00002: val_acc improved from 0.70000 to 0.76500, saving model to best_model\n",
      "21s - loss: 0.4889 - acc: 0.8030 - val_loss: 0.5373 - val_acc: 0.7650\n",
      "Epoch 4/100\n",
      "Epoch 00003: val_acc improved from 0.76500 to 0.78500, saving model to best_model\n",
      "20s - loss: 0.2835 - acc: 0.9010 - val_loss: 0.4478 - val_acc: 0.7850\n",
      "Epoch 5/100\n",
      "Epoch 00004: val_acc did not improve\n",
      "19s - loss: 0.1405 - acc: 0.9590 - val_loss: 0.4319 - val_acc: 0.7700\n",
      "Epoch 6/100\n",
      "Epoch 00005: val_acc did not improve\n",
      "19s - loss: 0.0650 - acc: 0.9860 - val_loss: 0.4356 - val_acc: 0.7650\n",
      "Epoch 7/100\n",
      "Epoch 00006: val_acc did not improve\n",
      "19s - loss: 0.0477 - acc: 0.9890 - val_loss: 0.5143 - val_acc: 0.7450\n",
      "Epoch 00006: early stopping\n"
     ]
    }
   ],
   "source": [
    "EMBEDDING_DIM=300\n",
    "FILTER_SIZES=[2,3,4]\n",
    "\n",
    "# set the number of output units\n",
    "# as the number of classes\n",
    "output_units_num=1\n",
    "num_filters=64\n",
    "\n",
    "# set the dense units\n",
    "dense_units_num= num_filters*len(FILTER_SIZES)\n",
    "\n",
    "BTACH_SIZE = 32\n",
    "NUM_EPOCHES = 100\n",
    "\n",
    "BEST_MODEL_FILEPATH='best_model'\n",
    "\n",
    "# With well trained word vectors, sample size can be reduced\n",
    "# Assume we only have 500 labeled data\n",
    "# split dataset into train (70%) and test sets (20%)\n",
    "\n",
    "# create the model with embedding matrix\n",
    "model=cnn_model(FILTER_SIZES, MAX_NB_WORDS, \\\n",
    "                MAX_DOC_LEN, \\\n",
    "                EMBEDDING_DIM=300,\\\n",
    "                NUM_OUTPUT_UNITS=output_units_num, \\\n",
    "                NUM_FILTERS=num_filters,\\\n",
    "                NUM_DENSE_UNITS=dense_units_num)\n",
    "\n",
    "earlyStopping=EarlyStopping(monitor='val_loss', patience=1, verbose=2, mode='min')\n",
    "checkpoint = ModelCheckpoint(BEST_MODEL_FILEPATH, monitor='val_acc', \\\n",
    "                             verbose=2, save_best_only=True, mode='max')\n",
    "    \n",
    "training=model.fit(padded_sequences, train_set[\"sentiment\"], \\\n",
    "          batch_size=BTACH_SIZE, epochs=NUM_EPOCHES, \\\n",
    "          callbacks=[earlyStopping, checkpoint],\\\n",
    "          validation_data=[padded_test_sequences, test_set[\"sentiment\"]], verbose=2)"
   ]
  },
  {
   "cell_type": "code",
   "execution_count": 15,
   "metadata": {},
   "outputs": [
    {
     "name": "stdout",
     "output_type": "stream",
     "text": [
      "[[1]\n",
      " [1]\n",
      " [1]\n",
      " [1]\n",
      " [0]]\n",
      "acc: 83.50%\n",
      "             precision    recall  f1-score   support\n",
      "\n",
      "          0       0.82      0.86      0.84       102\n",
      "          1       0.85      0.81      0.83        98\n",
      "\n",
      "avg / total       0.84      0.83      0.83       200\n",
      "\n"
     ]
    }
   ],
   "source": [
    "from sklearn.metrics import classification_report\n",
    "\n",
    "model.load_weights(\"best_model\")\n",
    "\n",
    "# predict\n",
    "pred=model.predict(padded_test_sequences)\n",
    "pred=np.where(pred>0.5,1,0)\n",
    "print(pred[0:5])\n",
    "# evaluate the model\n",
    "scores = model.evaluate(padded_test_sequences, test_set[\"sentiment\"], verbose=0)\n",
    "print(\"%s: %.2f%%\" % (model.metrics_names[1], scores[1]*100))\n",
    "\n",
    "print(classification_report(test_set[\"sentiment\"], pred))"
   ]
  },
  {
   "cell_type": "code",
   "execution_count": 17,
   "metadata": {
    "collapsed": true
   },
   "outputs": [],
   "source": [
    "sentences=[ [token.strip(string.punctuation).strip() \\\n",
    "             for token in nltk.word_tokenize(doc) \\\n",
    "                 if token not in string.punctuation and \\\n",
    "                 len(token.strip(string.punctuation).strip())>=2]\\\n",
    "             for doc in data[\"review\"]]"
   ]
  },
  {
   "cell_type": "code",
   "execution_count": 18,
   "metadata": {},
   "outputs": [
    {
     "name": "stdout",
     "output_type": "stream",
     "text": [
      "25000\n"
     ]
    }
   ],
   "source": [
    "print(len(sentences))"
   ]
  },
  {
   "cell_type": "code",
   "execution_count": 41,
   "metadata": {},
   "outputs": [
    {
     "name": "stderr",
     "output_type": "stream",
     "text": [
      "2018-04-11 23:18:06,700 : INFO : collecting all words and their counts\n",
      "2018-04-11 23:18:06,701 : INFO : PROGRESS: at sentence #0, processed 0 words, keeping 0 word types\n",
      "2018-04-11 23:18:07,136 : INFO : PROGRESS: at sentence #10000, processed 2374499 words, keeping 74911 word types\n",
      "2018-04-11 23:18:07,620 : INFO : PROGRESS: at sentence #20000, processed 4702314 words, keeping 105743 word types\n",
      "2018-04-11 23:18:07,839 : INFO : collected 118815 word types from a corpus of 5872604 raw words and 25000 sentences\n",
      "2018-04-11 23:18:07,840 : INFO : Loading a fresh vocabulary\n",
      "2018-04-11 23:18:07,955 : INFO : min_count=5 retains 34361 unique words (28% of original 118815, drops 84454)\n",
      "2018-04-11 23:18:07,956 : INFO : min_count=5 leaves 5744544 word corpus (97% of original 5872604, drops 128060)\n",
      "2018-04-11 23:18:08,075 : INFO : deleting the raw counts dictionary of 118815 items\n",
      "2018-04-11 23:18:08,077 : INFO : sample=0.001 downsamples 47 most-common words\n",
      "2018-04-11 23:18:08,078 : INFO : downsampling leaves estimated 4372651 word corpus (76.1% of prior 5744544)\n",
      "2018-04-11 23:18:08,079 : INFO : estimated required memory for 34361 words and 200 dimensions: 72158100 bytes\n",
      "2018-04-11 23:18:08,196 : INFO : resetting layer weights\n",
      "2018-04-11 23:18:08,633 : INFO : training model with 4 workers on 34361 vocabulary and 200 features, using sg=0 hs=0 sample=0.001 negative=5 window=5\n",
      "2018-04-11 23:18:09,638 : INFO : PROGRESS: at 5.91% examples, 1297788 words/s, in_qsize 7, out_qsize 0\n",
      "2018-04-11 23:18:10,642 : INFO : PROGRESS: at 10.37% examples, 1133869 words/s, in_qsize 7, out_qsize 0\n",
      "2018-04-11 23:18:11,650 : INFO : PROGRESS: at 15.75% examples, 1143265 words/s, in_qsize 7, out_qsize 0\n",
      "2018-04-11 23:18:12,652 : INFO : PROGRESS: at 20.51% examples, 1116998 words/s, in_qsize 7, out_qsize 0\n",
      "2018-04-11 23:18:13,654 : INFO : PROGRESS: at 26.72% examples, 1164908 words/s, in_qsize 7, out_qsize 0\n",
      "2018-04-11 23:18:14,654 : INFO : PROGRESS: at 33.12% examples, 1205742 words/s, in_qsize 7, out_qsize 0\n",
      "2018-04-11 23:18:15,670 : INFO : PROGRESS: at 38.32% examples, 1190924 words/s, in_qsize 6, out_qsize 1\n",
      "2018-04-11 23:18:16,674 : INFO : PROGRESS: at 43.29% examples, 1177550 words/s, in_qsize 7, out_qsize 0\n",
      "2018-04-11 23:18:17,684 : INFO : PROGRESS: at 48.20% examples, 1166382 words/s, in_qsize 7, out_qsize 0\n",
      "2018-04-11 23:18:18,687 : INFO : PROGRESS: at 52.89% examples, 1151799 words/s, in_qsize 7, out_qsize 0\n",
      "2018-04-11 23:18:19,688 : INFO : PROGRESS: at 57.72% examples, 1141677 words/s, in_qsize 7, out_qsize 0\n",
      "2018-04-11 23:18:20,693 : INFO : PROGRESS: at 63.94% examples, 1159817 words/s, in_qsize 7, out_qsize 0\n",
      "2018-04-11 23:18:21,695 : INFO : PROGRESS: at 70.42% examples, 1179460 words/s, in_qsize 7, out_qsize 0\n",
      "2018-04-11 23:18:22,695 : INFO : PROGRESS: at 76.96% examples, 1196512 words/s, in_qsize 7, out_qsize 0\n",
      "2018-04-11 23:18:23,698 : INFO : PROGRESS: at 83.36% examples, 1209994 words/s, in_qsize 7, out_qsize 0\n",
      "2018-04-11 23:18:24,703 : INFO : PROGRESS: at 89.78% examples, 1222662 words/s, in_qsize 7, out_qsize 0\n",
      "2018-04-11 23:18:25,706 : INFO : PROGRESS: at 95.88% examples, 1228370 words/s, in_qsize 8, out_qsize 0\n",
      "2018-04-11 23:18:26,482 : INFO : worker thread finished; awaiting finish of 3 more threads\n",
      "2018-04-11 23:18:26,485 : INFO : worker thread finished; awaiting finish of 2 more threads\n",
      "2018-04-11 23:18:26,492 : INFO : worker thread finished; awaiting finish of 1 more threads\n",
      "2018-04-11 23:18:26,498 : INFO : worker thread finished; awaiting finish of 0 more threads\n",
      "2018-04-11 23:18:26,499 : INFO : training on 29363020 raw words (21863480 effective words) took 17.9s, 1223915 effective words/s\n"
     ]
    }
   ],
   "source": [
    "from gensim.models import word2vec\n",
    "import logging\n",
    "import pandas as pd\n",
    "\n",
    "# print out tracking information\n",
    "logging.basicConfig(format='%(asctime)s : %(levelname)s : %(message)s', \\\n",
    "                    level=logging.INFO)\n",
    "EMBEDDING_DIM=200\n",
    "wv_model = word2vec.Word2Vec(sentences, min_count=5, \\\n",
    "                             size=EMBEDDING_DIM, window=5, workers=4 )"
   ]
  },
  {
   "cell_type": "code",
   "execution_count": 45,
   "metadata": {},
   "outputs": [
    {
     "name": "stderr",
     "output_type": "stream",
     "text": [
      "2018-04-11 23:24:58,354 : INFO : loading projection weights from /Users/rliu/bluemix/bia660/GoogleNews-vectors-negative300.bin\n",
      "2018-04-11 23:25:34,084 : INFO : loaded (3000000, 300) matrix from /Users/rliu/bluemix/bia660/GoogleNews-vectors-negative300.bin\n"
     ]
    }
   ],
   "source": [
    "import gensim\n",
    "\n",
    "wv_model = gensim.models.KeyedVectors.\\\n",
    "load_word2vec_format('/Users/rliu/bluemix/bia660/GoogleNews-vectors-negative300.bin', binary=True) \n",
    "\n",
    "#model.wv.most_similar(positive=['women','king'], negative='man')"
   ]
  },
  {
   "cell_type": "code",
   "execution_count": 67,
   "metadata": {
    "collapsed": true
   },
   "outputs": [],
   "source": [
    "from keras.preprocessing.text import Tokenizer\n",
    "from keras.preprocessing.sequence import pad_sequences\n",
    " \n",
    "import numpy as np\n",
    "\n",
    "# set the maximum number of words to be used\n",
    "MAX_NB_WORDS=12000\n",
    "\n",
    "# set sentence/document length\n",
    "MAX_DOC_LEN=1000\n",
    "\n",
    "# get a Keras tokenizer\n",
    "# https://keras.io/preprocessing/text/\n",
    "tokenizer = Tokenizer(num_words=MAX_NB_WORDS)\n",
    "tokenizer.fit_on_texts(train_set[\"review\"])\n",
    "\n",
    "# convert each document to a list of word index as a sequence\n",
    "sequences = tokenizer.texts_to_sequences(train_set[\"review\"])\n",
    "\n",
    "# pad all sequences into the same length \n",
    "# if a sentence is longer than maxlen, pad it in the right\n",
    "# if a sentence is shorter than maxlen, truncate it in the right\n",
    "padded_sequences = pad_sequences(sequences, \\\n",
    "                                 maxlen=MAX_DOC_LEN, \\\n",
    "                                 padding='post', \\\n",
    "                                 truncating='post')\n",
    "\n",
    "test_sequences = tokenizer.texts_to_sequences(test_set[\"review\"])\n",
    "\n",
    "# pad all sequences into the same length \n",
    "# if a sentence is longer than maxlen, pad it in the right\n",
    "# if a sentence is shorter than maxlen, truncate it in the right\n",
    "padded_test_sequences = pad_sequences(test_sequences, \\\n",
    "                                 maxlen=MAX_DOC_LEN, \\\n",
    "                                 padding='post', \\\n",
    "                                 truncating='post')\n",
    "\n",
    "\n"
   ]
  },
  {
   "cell_type": "code",
   "execution_count": 68,
   "metadata": {},
   "outputs": [
    {
     "name": "stdout",
     "output_type": "stream",
     "text": [
      "1639\n",
      "['and', 'a', 'of', 'to', '10', \"i'm\", \"i've\", \"i'd\", \"i'll\", \"film's\", \"'\", '15', '–', 'lundgren', \"movie's\", \"80's\", '30', '000', 'paulie', '100', 'alvin', 'favourite', '90', '20', 'theatre', 'amrita', 'humour', '50', '70s', 'tarzan', 'lugosi', 'burgade', \"70's\", 'macarthur', \"'the\", 'mildred', 'herschel', '40', 'zandalee', 'karloff', 'zombi', 'sandler', 'walken', 'keaton', '13', 'maclean', \"freddy's\", 'gundam', '1972', 'digicorp', 'carface', 'foxx', 'flynn', 'othello', '11', 'grey', '60', \"character's\", 'ritter', \"moore's\", '1945', \"keaton's\", 'byron', \"director's\", 'mst3k', 'silverman', 'rukh', 'kazan', '14', 'fulci', '80s', 'gilliam', '60s', 'bettie', '2006', '1950s', 'mukhsin', '2000', \"davis'\", 'bsg', 'kolchak', 'dolph', '400', 'tolstoy', '1930s', 'heston', 'widmark', 'palance', 'carrey', 'timberlake', 'brando', 'sarandon', \"60's\", 'northam', 'truman', '80', '12', '45', 'tmnt', 'eastwood', 'callahan', 'soylent', 'fetchit', 'weller', 'cedric', 'micheaux', \"'scoop'\", 'romero', '17', '1960s', 'woolsey', 'realised', \"1950's\", '1996', 'hermann', '25', 'sinatra', 'damme', 'polanski', '3000', '700', '13th', '1976', 'esther', 'orked', \"paulie's\", 'tyrannus', \"macarthur's\", 'blaine', 'malone', '1970', 'shapiro', 'patton', 'matthau', \"crowe's\", 'stepin', 'mirren', 'mathieu', \"welles'\", 'iphigenia', \"euripides'\", 'louque', \"'paris'\", 'jindabyne', 'alexandre', 'kazuhiro', 'pacino', '00', '1940s', 'brosnan', '200', '2002', \"fulci's\", 'bouchet', '70', 'veronika', 'slade', 'audiard', '22', 'thursby', 'centre', 'bafta', 'gwyneth', 'paltrow', 'judgement', '1968', '1989', '16', 'modine', '1983', 'favour', 'léaud', 'busey', 'troma', \"person's\", 'ustinov', \"'s\", '1987', \"friend's\", \"hollywood's\", 'greenstreet', \"flynn's\", 'nastassja', 'kinski', 'girlfight', 'sooraj', 'chawla', '44', 'deanna', '1970s', 'branagh', \"lundgren's\", 'welles', 'cacoyannis', 'agamemnon', 'duval', 'farnsworth', 'laurence', 'tashan', 'seuss', 'whoville', 'thierry', 'yoshida', 'colman', 'granger', \"hillyer's\", '1956', 'rathbone', '48', \"'em\", 'mostel', 'steiner', 'mclaglen', \"brother's\", '99', \"romero's\", \"someone's\", 'deluise', '1980s', 'mcnamara', \"o'neal\", 'cartwright', 'natali', 'hitchcock', 'samways', 'realises', '30s', 'darkwolf', 'knightley', \"byron's\", 'spoilt', 'trelkovsky', 'isabelle', 'streisand', \"streisand's\", \"norman's\", 'mazursky', \"1970's\", '1960', \"might've\", 'malden', '1986', '1958', 'casablanca', 'keitel', \"smith's\", 'togan', 'krueger', 'valerie', '1933', 'stratten', '1982', 'quaid', 'wwii', 'bacall', 'eyre', 'colours', \"90's\", 'caprica', 'belzer', 'bathsheba', 'sammo', '65', 'putain', 'higgins', \"girl's\", \"father's\", \"daughter's\", 'demme', 'rosanna', 'arquette', 'shakespearian', 'colton', 'kapur', 'spielberg', 'seagal', 'bassenger', 'ashleigh', \"o'neill\", '1969', 'savalas', \"henry's\", 'cheech', '1939', \"god's\", 'faye', \"30's\", \"peck's\", 'mcqueen', 'crispin', 'swanson', 'armand', 'halperin', '1936', 'carlyle', \"taj's\", 'beban', 'ramones', 'reinhold', 'benet', 'everytown', \"goa'uld\", 'apophis', 'durbin', 'milland', 'wendigo', 'juhee', 'margaux', 'realise', 'dolemite', 'hickcock', \"america's\", \"hitler's\", 'coburn', 'levant', 'marlon', 'carell', \"ford's\", 'gypo', \"'80s\", 'abrams', 'galipeau', 'nguyen', 'cambodia', '2007', 'shue', \"miraglia's\", '1971', 'can´t', '23', 'masterson', 'reginald', 'fassbinder', 'barrymore', 'pilate', 'madsen', 'zerelda', \"herschel's\", 'pryor', '50s', 'ewoks', 'leia', \"paul's\", 'wray', \"price's\", '1953', '1944', '1966', \"latter's\", 'harron', 'cartwrights', 'patric', 'soderbergh', 'colour', \"thompson's\", \"griffith's\", \"1920's\", \"subject's\", \"england's\", '1994', 'dietrich', 'adjani', 'tepper', 'springsteen', 'rhys', 'harrelson', \"show's\", 'fairbanks', '19th', 'ciannelli', 'beals', 'sabrina', '35', 'marjorie', 'cambell', 'arkin', 'kristofferson', 'jagger', \"family's\", \"andrews'\", 'preminger', \"kubrick's\", 'buñuel', 'newhart', 'whoopi', 'uranus', 'kellerman', 'kober', 'springwood', 'haden', \"stewart's\", '18', \"'art'\", 'emil', 'dunne', 'hayward', \"king's\", 'uriah', \"scott's\", \"mj's\", 'scorsese', 'ingram', 'affleck', \"killer's\", 'cecil', \"pryor's\", \"'70s\", 'paxton', 'cavanagh', 'cancelled', 'moynahan', 'christensen', \"allen's\", \"1960's\", 'sabu', 'veidt', 'errol', '40s', 'tristan', 'laputa', 'foch', 'sammi', 'higgin', 'kemble', 'barjatya', 'alok', 'anupam', 'kher', 'hahk', 'christy', \"'68\", 'maguire', 'crowe', 'gettaway', 'tatum', 'dassin', 'grendel', 'beowulf', 'wheezer', 'chuckie', \"kris's\", '58', 'hanzo', 'fellini', \"falk's\", 'altman', \"altman's\", 'duvall', 'spacek', 'i’d', '2005', 'hackett', 'orson', 'odysseus', 'euripides', 'haines', 'hearst', \"davies'\", 'tsiang', 'clifford', 'gazzara', 'audrey', 'hepburn', \"dawson's\", \"don's\", \"'this\", 'pokémon', 'garfield', 'krell', '42nd', \"baker's\", \"rosemary's\", 'cassavetes', 'truffaut', 'moreau', 'binoche', 'lemmon', \"lincoln's\", \"peckinpah's\", 'buscemi', \"macarthur'\", 'yash', \"goldsworthy's\", \"seuss'\", \"'ny'\", \"son's\", 'deewaar', 'amitabh', 'akshaye', 'khanna', 'nicolas', \"rukh's\", \"branagh's\", 'carrere', 'kenner', 'rgv', 'abydos', \"'retarded'\", 'auer', 'winninger', \"'dirty\", \"colman's\", 'hasso', 'mcgovern', 'paget', 'ghosthouse', 'nikhil', 'takia', \"christmas'\", 'tintin', 'hemingway', 'bancroft', 'gackt', \"sho's\", \"'arthur'\", 'guilgud', 'delia', 'estelle', 'lindum', 'jeanette', '21st', 'kornbluth', 'mahoney', '88', \"breathless's\", 'sorvino', 'forsythe', 'talor', 'mitchum', \"girl'\", 'starbuck', 'edna', \"widmark's\", 'udo', 'ferrell', 'culkin', 'binnie', 'faust', 'costello', 'zucker', \"earth's\", \"city's\", 'humphrey', '1979', 'lucio', 'mattei', 'kafka', '115', 'miraglia', 'sybil', 'danning', 'celie', 'shug', 'natasha', 'crighton', \"madonna's\", 'cybill', 'corinne', 'frownland', '95', \"'i\", \"system'\", '£1', \"ship's\", \"sandler's\", 'cromwell', \"fassbinder's\", 'schygulla', \"gibson's\", '30th', 'roseanne', \"moses'\", 'madeline', '1950', 'hadley', 'endor', \"lando's\", \"anyone's\", \"devos'\", 'cassel', 'eleniak', 'berenger', \"beery's\", 'millie', 'gretchen', 'penelope', '1954', 'honourable', 'pernell', 'landon', 'lorne', '120', 'manojlovic', 'cinemagic', 'vincenzo', 'cronenberg', 'tahiti', \"'a\", 'benicio', 'guevara', \"pollack's\", \"tucci's\", \"'straight\", 'roxy', 'ramon', '300', 'graboids', \"black's\", '90s', 'segal', 'mantegna', 'centred', \"writer's\", \"carrey's\", '43', 'woodhouse', 'britons', '1991', 'blythe', 'ravenna', 'pisa', 'attenborough', 'leibman', 'venantini', \"tolkien's\", 'margotta', '1993', 'mononoke', 'nausicaa', 'gabrielle', \"chip's\", 'malcom', \"cop's\", 'tilly', 'redgrave', 'minelli', '1990', '1959', '2003', 'rko', 'flashdance', 'eustache', 'françoise', 'lebrun', 'fawcett', \"marjorie's\", \"cambell's\", 'pierson', 'surtees', \"cinema's\", \"'good\", \"dean's\", \"preminger's\", 'hecht', '1999', \"mukhsin's\", \"orked's\", '1998', 'ginty', 'elisabeth', 'bunuel', 'bernal', \"williams'\", \"foxx's\", 'epps', 'antoine', \"jackson's\", '18th', 'clive', \"dvd's\", '1942', 'sahan', \"actor's\", 'shyamalan', 'kitt', 'viggo', 'mortensen', 'redford', '26', \"montana's\", 'zane', \"craven's\", '1934', 'gertrude', \"wilson's\", 'tamerlane', 'corregidor', 'usaffe', 'bogdanovich', 'candoli', 'kristel', \"greene's\", 'alistair', 'ebeneezer', '28', '34', '21', '34th', '1937', 'sedahl', \"taylor's\", 'klemper', 'evangelion', 'gunbuster', 'lushious', 'dumbland', 'revelled', \"bronte's\", \"jane's\", 'artie', 'dominique', 'alain', 'delon', 'jarmusch', 'tunnelvision', '1951', 'fricker', 'mcconaughey', 'adrien', 'massey', 'kieron', 'jayne', \"author's\", 'spectre', '1928', 'jannings', \"command'\", 'korda', 'gayniggers', 'defence', 'govinda', 'gleason', 'axe', 'heathcliff', 'jacknife', 'krimi', \"disney's\", 'gadgetmobile', \"elephant's\", \"viewer's\", \"carlito's\", \"abc's\", 'gere', 'daines', '1895', 'travelling', '54', '2004', \"greenstreet's\", '1973', 'frye', 'kusturica', \"'my\", 'jaffar', 'corman', 'raoul', 'stallone', 'gershwin', \"singin'\", 'cassidy', 'yvaine', 'gaiman', \"director'\", \"harry's\", '20th', '1949', '1955', 'macready', 'n64', 'hodges', 'hillyer', 'beulah', 'qayamat', 'taktarov', \"audience's\", 'keanu', \"story's\", \"willy's\", 'invisibilation', \"fetchit's\", 'ernst', '1967', '1984', \"true's\", 'lom', 'jurgens', 'horton', 'jessup', 'programme', \"robertson's\", \"simmons'\", \"streep's\", 'helge', \"club's\", 'frawley', 'kundera', \"che's\", 'bolivia', 'kridge', \"cashier's\", '1930', 'nosbusch', 'meryl', 'streep', '12th', 'loesser', 'kaye', 'toomey', 'mankiewicz', 'kwouk', 'manchu', \"karloff's\", 'basinger', \"barbara's\", \"attenborough's\", 'greenaway', 'columbo', 'bluth', 'annabelle', 'coppola', 'wtc', \"'cheap'\", \"50's\", \"farnham's\", 'mcshane', 'mcgavin', 'there’s', 'aztec', 'zemeckis', '1974', \"bunuel's\", 'iago', 'hickox', 'devito', 'bartel', 'hayworth', 'jovi', 'calchas', 'homeric', \"agamemnon's\", 'kazakos', 'irene', 'tatiana', \"kazakos'\", \"wife's\", 'giannini', \"cliché's\", 'albertson', 'theatres', 'peppoire', 'demille', \"peppoire's\", 'noland', 'burlinson', 'sigrid', 'dennehy', \"trent's\", 'vinnie', 'harilall', \"others'\", '98', 'nielsen', '1977', '2001', 'robby', \"planet's\", 'sibrel', 'eloise', 'robeson', 'debenning', '1961', \"holmes's\", \"capote's\", 'weissmuller', 'hiroshima', 'julien', 'duvivier', 'yves', 'renoir', 'yipe', 'ventresca', 'harbour', 'fonda', \"bsg's\", '1915', 'behaviour', 'ralphie', 'mcbride', \"baldwin's\", \"patton'\", 'kareena', 'bremner', 'spacecamp', 'goldsworthy', 'momsen', 'kacey', \"'paris\", \"t'aime'\", \"'monster'\", \"'n'\", 'ramone', '1952', 'broderick', 'mcadams', 'forlani', 'priyadarshan', \"carpenter's\", \"wells'\", 'heyerdahl', 'pantoliano', \"leonard's\", \"genre's\", 'minnelli', 'antwone', 'hilbrand', 'sondra', 'janos', 'corbetts', 'loder', 'fishburne', \"sutherland's\", \"lee's\", 'rudolf', 'sholay', 'mohanlal', 'devgan', 'sushmita', \"'six\", '2036', 'johansson', \"alvin's\", 'elisha', 'lamberto', 'bava', \"daniel's\", \"jack's\", \"teal'c\", 'connolly', 'nuyorican', 'nuyoricans', 'phoenixville', \"harry'\", \"'sudden\", \"impact'\", \"adam's\", 'don´t', 'biko', 'heldar', \"cukor's\", 'nyugen', 'dwivedi', \"schwartz's\", 'spader', \"script's\", \"movie'\", 'fanfan', 'lollo', 'vittorio', 'hillsborough', 'ringu', 'soraj', 'ishk', 'vishk', 'willem', 'penquin', \"mann's\", '1948', 'mescaleros', 'efx', \"chuck's\", 'razzie', 'knef', 'hasselhoff', \"hasselhoff's\", \"'emotion'\", \"love'\", 'sawant', 'napton', \"'columbo'\", \"'corky\", \"romano'\", 'falk', \"'finding\", 'hergé', 'mariel', 'sisters’', 'aikens', 'noelle', 'bronson', 'pinchot', 'lerner', 'ekin', \"their's\", 'zd', '1997', \"novak's\", 'rosenstrasse', 'karvan', \"tony's\", \"2000's\", \"'i'm\", 'digimon', 'gamera', \"hoffman's\", 'chertkov', 'mcavoy', 'vampira', 'dolores', 'leif', \"chris'\", \"husband's\", \"svendsen's\", \"dolemite's\", 'thurman', 'deveraux', \"hanks'\", 'khoi', 'arnie', 'crawley', 'corbin', 'bernsen', \"abbey's\", 'sg1', \"'u'\", \"massey's\", 'maltin', '67', 'zabriskie', 'antonioni', \"era's\", 'chupke', 'preity', 'zinta', 'diwani', \"simon's\", \"josh's\", \"'chinese\", 'lunohod', 'lawton', \"'government\", \"media'\", \"perry's\", 'tanglefoot', 'gruesom', 'beatty', 'incorruptable', 'maddonna', 'gleanne', 'headly', \"tracy's\", 'girlfrined', 'pruneface', 'patinkin', 'manlis', \"o'ross\", 'sudetanland', 'czechs', 'austrians', '1943', 'vanesa', \"want's\", 'navajo', 'yuma', \"provo's\", \"susan's\", 'brickman', 'bugrade', \"graduate'\", \"'birthday\", 'weclome', \"rathbone's\", \"crosby's\", 'beckinsell', \"pullman's\", 'anhalt', \"kazan's\", 'burgendy', 'rogen', 'sharkboy', 'lavagirl', \"d'linz\", \"jeanette's\", 'groucho', \"6's\", \"claude's\", \"mike's\", 'sequiturs', 'labelled', 'saget', 'straithrain', '12s', 'cogsworth', 'potts', 'lansbury', \"potts'\", 'offence', \"'rudy'\", \"'awakenings'\", \"owl's\", 'sargents', 'thuy', 'keisha', 'kier', 'virgine', 'ledoyen', 'berlinale', \"almodovar's\", 'geddes', \"zero's\", \"cleaner's\", 'foetus', \"original's\", 'stefano', \"mainetti's\", 'fabio', \"frizzi's\", \"'79\", \"tyler's\", 'gilliamesque', \"gilliam's\", \"monkey's\", 'rumour', \"bourne's\", \"damon's\", \"bacon's\", 'uccide', 'wildenbrück', \"grandfather's\", \"bouchet's\", \"leo's\", 'calibro', 'malfatti', \"nicolai's\", 'increses', 'nettie', 'henstridge', 'keneth', '1957', 'madoona', 'dudikoff', \"\\x91b'movie\", \"\\x91spawn'\", \"games'\", 'macnamara', 'there´s', 'they´re', 'bg´s', 'you´ll', 'it´s', 'phisics', 'sufered', '´cos', 'chiba', 'jeffries', 'alexs', \"corinne's\", 'stiflers', 'umecki', '106', 'beefheart', 'btas', 'twoface', 'clayface', \"lucy's\", \"'lucifer'\", \"male's\", 'americian', '30am', 'farscape', \"hetfield's\", \"'electrical\", \"expert's\", \"pc's\", \"'hot\", \"'dickie'\", 'shecker', \"maughan's\", 'unbenownst', 'rainer', 'werner', \"gi's\", 'desny', 'oswald', \"maria's\", \"schygulla's\", 'voss', 'latifah', \"fallon's\", 'caiaphas', 'blakely', \"michell's\", \"savala's\", 'hatfield', 'formulmatic', 'sinny', 'cornyness', 'pungee', \"'we\", 'vosloo', 'adjustin', 'laraine', \"pharaoh's\", 'gilford', \"zerelda's\", \"sodom's\", \"jesus'\", 'hoitytoityness', 'darkheart', 'colourful', 'bethany', 'scandinavia', 'bergstrom', 'selldal', 'wollter', 'sellam', 'looooooooong', \"'beauty\", \"beast'\", \"bertolucci's\", \"'moral'\", \"'symbolism'\", \"'forbidden'\", \"audiard's\", 'more\\u2028much', 'emmanuelle', \"carla's\", 'devos', 'ericka', 'baywatch', \"'90s\", 'guignol', \"'missing'\", \"brahm's\", 'cregar', '\\u2028though', '73', 'spoilerwarning', 'débutante', \"boss's\", 'torme', 'soxers', 'borge', 'klaw', 'yeager', 'guinevere', 'terrorising', \"tc's\", \"'coerced\", \"'into\", 'alejandro', 'amenábar', \"trace's\", '2020', 'rohauer', \"cartwrights'\", 'baccarin', \"morena's\", \"something's\", 'bonner', 'barrimore', 'elams', \"'spy'\", 'wgbh', 'deighton', \"holm's\", \"'largo\", \"winch'\", 'roden', 'sisley', 'radivoje', 'bukvic', 'goran', 'croatian', 's500', 'extremal', \"london's\", \"schoolteacher's\", \"tom'\", \"thaw's\", 'ronnies', \"bumpkin'\", 'digicorps', \"cameo's\", 'trebor', 'subor', \"'times'\", 'lazerov', 'mcdermott', \"n'sync\", \"laurie's\", \"guy'\", 'seger', \"guys'\", 'indira', \"varma's\", 'adrienne', \"morrison's\", 'tucci', \"sheets'\", \"'cutting\", \"edge'\", \"'enshrined\", \"mediocrity'\", 'bulgaria', '1000', 'eliza', 'headey', \"'thinner'\", 'bachman', 'althou', 'prettymuch', 'werewolfworld', 'aplus', 'horrortitles', \"brat's\", 'skellington', \"connell's\", 'lughnasa', 'danner', \"'get\", 'loren', 'especically', 'shadley', 'guiccioli', 'childe', \"shelley's\", 'missolonghi', \"'less'\", '1816', \"rohmer's\", \"duke'\", 'domini', 'enfilren', 'marlene', 'androvsky', 'algiers', \"tenant'\", \"'frantic'\", \"truffaut's\", \"'l'histoire\", \"d'adele\", \"'knife\", \"water'\", 'crapo', 'nelkin', 'macchio', 'poston', \"mad's\", 'blackploitation', 'roadwarrior', 'venantino', 'briganti', 'dardano', 'sacchetti', 'luca', 'paura', 'morti', 'viventi', \"mary's\", 'manji', 'oafy', 'tolkien', \"'lucky'\", \"nicholson's\", 'larner', \"part's\", 'japon', 'palme', \"miyazaki's\", 'hardesty', 'crandall', \"hoover's\", 'esamples', 'mcdowall', \"mamet's\", 'mamet', 'huckabees', 'huppert', 'cinematography\\u2028', 'unger', 'durang', 'ignatius', \"'meat'\", '1980', '1988', 'ifans', 'boorman', 'mcgregor', 'organising', '1975', 'disreguarded', \"christopher's\", \"'wizards\", \"kingdom'\", 'htv', 'norseman', \"derek's\", 'fontaine', 'jaffe', 'rudyard', 'kipling', 'eduard', \"'bushwhackers'\", 'eyeroller', '911', \"'tim\", \"ben'\", 'geewiz', \"journey's\", \"''your\", \"thing''\", 'dougray', \"''dark''\", 'isabel', \"allende's\", \"book's\", \"brady's\", \"kapow's\", 'catwomen', 'schertler', 'memama', 'worthing', 'farrah', 'scarwid', 'alfrie', 'woodard', 'elequence', \"vonnegut's\", \"nolte's\", 'selfloathing', 'sherryl', 'pinnocioesque', 'sastifyingly', \"bettie's\", 'barbra', \"esther's\", \"loggins'\", \"kristofferson's\", \"watt's\", \"ned's\", 'bacchus', 'clunes', 'ballarat', \"hunting'\", 'baise', \"moi'\", \"'flirt'\", 'blige', 'undescribably', 'tilda', 'swinton', 'woodeness', 'comotose', \"'intensity'\", 'betacam', 'gladys', \"stooges'\", 'keays', 'lmn', 'corin', 'nemec', 'madchen', \"amick's\", \"nemec's\", \"margaret's\", \"protagonist's\", 'tierney', \"needn't\", \"wagner's\", 'dreyfus', 'braga', 'addams', 'untrumpeted', 'filmfour', \"cypher's\", \"pacula's\", 'breuer', 'nietzsche', \"breuer's\", \"bully's\", 'bgr', 'koboi', \"'girls'\", \"grandparents'\", 'selleck', \"kevin's\", \"verhoeven's\", 'sasquatsh', 'henriksen', \"prosecution's\", \"'fridge\", \"killin'\", \"'blood'\", \"'plan\", \"9'\", 'bosnia', 'bosnian', 'inarritu', 'lalouche', 'imamura', 'osbourne', \"metal's\", 'benjamenta', \"bear's\", \"gore's\", 'paradiso', 'georg', \"gerard's\", 'iben', 'hjejle', 'overracting', 'tylo', \"pepper's\", \"floyd's\", \"'chaplain\", \"drawer'\", 'kieth', 'weis', 'demonicus', 'willian', \"jamie's\", 'hutchison', 'fuqua', \"government's\", 'inutterably', 'lili', 'doright', 'quigon', 'neeson', 'queenish', \"sally's\", 'moriarty', 'dondaro', 'cassell', 'warnicki', \"meredith's\", 'pyle', 'manfredi', 'carrol', 'wallece', \"prophet's\", \"diplomat's\", 'nevsky', 'leni', \"reifenstal's\", \"bbc's\", 'goodtimes', 'manchuria', 'gokbakar', 'dikkat', 'cikabilir', 'preciosities', 'hannibal', 'shockmovie', \"uzi's\", 'blablabla', 'ertha', \"kitt's\", \"tiffany's\", 'highsmith', 'objectifier', \"victor's\", \"'snowwhite'\", \"pm's\", \"strain's\", 'griffith', 'aragorn', \"priestly's\", 'missoula', \"maclean's\", 'englund', 'greenblatt', \"outskirt's\", 'talalay', \"know's\", \"death's\", \"other's\", 'coccio', 'hepo', \"italians'\", 'councellor', \"hartmen's\", \"o'day\", 'dvorak', '1932', 'nicholls', \"anne's\", 'heggie', 'cuthbert', 'westley', 'marilla', 'messinger', 'turakistan', 'haliburton', 'aykroyd', 'cusack', 'cusacks', 'pointeblank', 'marisa', 'tomeihere', 'lorenzo', 'kinmont', \"oj's\", 'zooey', 'deschanel', \"'x'\", \"history's\", \"sam'\", \"abandon'\", 'bataan', \"return'\", 'leyte', \"camp's\", 'toonami', 'sailormoon', 'ryo', 'candolis', 'duning', \"tree's\", 'navajos', \"grandpa's\", 'arliss', 'valliant', 'wwi', 'pabst', \"brecht's\", 'lenya', 'insectish', \"creame's\", \"dicken's\", 'cratchitt', 'kitrosser', \"maugham's\", \"rko's\", \"howard's\", 'claudette', 'barretts', 'wimpole', '33']\n"
     ]
    }
   ],
   "source": [
    "MAX_NB_WORDS=12000\n",
    "EMBEDDING_DIM=300\n",
    "\n",
    "# tokenizer.word_index provides the mapping \n",
    "# between a word and word index for all words\n",
    "NUM_WORDS = min(MAX_NB_WORDS, len(tokenizer.word_index))\n",
    "\n",
    "# \"+1\" is for padding symbol\n",
    "embedding_matrix = np.zeros((NUM_WORDS+1, EMBEDDING_DIM))\n",
    "\n",
    "ignored_words=[]\n",
    "for word, i in tokenizer.word_index.items():\n",
    "    # if word_index is above the max number of words, ignore it\n",
    "    if i >= NUM_WORDS:\n",
    "        continue\n",
    "    if word in wv_model.wv:\n",
    "        embedding_matrix[i]=wv_model.wv[word]\n",
    "    else:\n",
    "        ignored_words.append(word)\n",
    "        \n",
    "print(len(ignored_words))\n",
    "print(ignored_words)"
   ]
  },
  {
   "cell_type": "code",
   "execution_count": 69,
   "metadata": {},
   "outputs": [
    {
     "name": "stdout",
     "output_type": "stream",
     "text": [
      "Train on 1000 samples, validate on 200 samples\n",
      "Epoch 1/100\n",
      "Epoch 00000: val_acc improved from -inf to 0.48500, saving model to best_model\n",
      "15s - loss: 0.7047 - acc: 0.5210 - val_loss: 0.7026 - val_acc: 0.4850\n",
      "Epoch 2/100\n",
      "Epoch 00001: val_acc improved from 0.48500 to 0.61000, saving model to best_model\n",
      "14s - loss: 0.6503 - acc: 0.6180 - val_loss: 0.6318 - val_acc: 0.6100\n",
      "Epoch 3/100\n",
      "Epoch 00002: val_acc did not improve\n",
      "13s - loss: 0.5724 - acc: 0.7190 - val_loss: 0.5950 - val_acc: 0.6100\n",
      "Epoch 4/100\n",
      "Epoch 00003: val_acc improved from 0.61000 to 0.80500, saving model to best_model\n",
      "13s - loss: 0.4735 - acc: 0.7930 - val_loss: 0.4609 - val_acc: 0.8050\n",
      "Epoch 5/100\n",
      "Epoch 00004: val_acc did not improve\n",
      "14s - loss: 0.3371 - acc: 0.8760 - val_loss: 0.4180 - val_acc: 0.8000\n",
      "Epoch 6/100\n",
      "Epoch 00005: val_acc did not improve\n",
      "13s - loss: 0.2858 - acc: 0.8880 - val_loss: 0.3986 - val_acc: 0.8050\n",
      "Epoch 7/100\n",
      "Epoch 00006: val_acc improved from 0.80500 to 0.85500, saving model to best_model\n",
      "13s - loss: 0.1930 - acc: 0.9340 - val_loss: 0.3610 - val_acc: 0.8550\n",
      "Epoch 8/100\n",
      "Epoch 00007: val_acc did not improve\n",
      "13s - loss: 0.1513 - acc: 0.9470 - val_loss: 0.3348 - val_acc: 0.8350\n",
      "Epoch 9/100\n",
      "Epoch 00008: val_acc did not improve\n",
      "13s - loss: 0.1134 - acc: 0.9620 - val_loss: 0.3317 - val_acc: 0.8450\n",
      "Epoch 10/100\n",
      "Epoch 00009: val_acc did not improve\n",
      "13s - loss: 0.0953 - acc: 0.9670 - val_loss: 0.3579 - val_acc: 0.8450\n",
      "Epoch 11/100\n",
      "Epoch 00010: val_acc did not improve\n",
      "13s - loss: 0.0626 - acc: 0.9860 - val_loss: 0.3502 - val_acc: 0.8400\n",
      "Epoch 00010: early stopping\n"
     ]
    }
   ],
   "source": [
    "\n",
    "EMBEDDING_DIM=300\n",
    "FILTER_SIZES=[2,3,4]\n",
    "\n",
    "# set the number of output units\n",
    "# as the number of classes\n",
    "output_units_num=1\n",
    "num_filters=64\n",
    "\n",
    "# set the dense units\n",
    "dense_units_num= num_filters*len(FILTER_SIZES)\n",
    "\n",
    "BTACH_SIZE = 32\n",
    "NUM_EPOCHES = 100\n",
    "\n",
    "# With well trained word vectors, sample size can be reduced\n",
    "# Assume we only have 500 labeled data\n",
    "# split dataset into train (70%) and test sets (20%)\n",
    "\n",
    "\n",
    "# create the model with embedding matrix\n",
    "model=cnn_model(FILTER_SIZES, MAX_NB_WORDS, \\\n",
    "                MAX_DOC_LEN, \\\n",
    "                EMBEDDING_DIM=300,\\\n",
    "                NUM_OUTPUT_UNITS=output_units_num, \\\n",
    "                NUM_FILTERS=num_filters,\\\n",
    "                NUM_DENSE_UNITS=dense_units_num,\\\n",
    "                PRETRAINED_WORD_VECTOR=embedding_matrix)\n",
    "\n",
    "earlyStopping=EarlyStopping(monitor='val_acc', patience=3, verbose=2, mode='max')\n",
    "checkpoint = ModelCheckpoint(BEST_MODEL_FILEPATH, monitor='val_acc', \\\n",
    "                             verbose=2, save_best_only=True, mode='max')\n",
    "    \n",
    "training=model.fit(padded_sequences, train_set[\"sentiment\"], \\\n",
    "          batch_size=BTACH_SIZE, epochs=NUM_EPOCHES, \\\n",
    "          callbacks=[earlyStopping, checkpoint],\\\n",
    "          validation_data=[padded_test_sequences, test_set[\"sentiment\"]], verbose=2)"
   ]
  },
  {
   "cell_type": "code",
   "execution_count": 68,
   "metadata": {},
   "outputs": [
    {
     "name": "stdout",
     "output_type": "stream",
     "text": [
      "[[1]\n",
      " [1]\n",
      " [0]\n",
      " [0]\n",
      " [0]]\n",
      "acc: 70.50%\n",
      "             precision    recall  f1-score   support\n",
      "\n",
      "          0       0.68      0.77      0.72        98\n",
      "          1       0.74      0.65      0.69       102\n",
      "\n",
      "avg / total       0.71      0.70      0.70       200\n",
      "\n"
     ]
    }
   ],
   "source": [
    "from sklearn.metrics import classification_report\n",
    "\n",
    "model.load_weights(\"best_model\")\n",
    "\n",
    "# predict\n",
    "pred=model.predict(padded_test_sequences)\n",
    "pred=np.where(pred>0.5,1,0)\n",
    "print(pred[0:5])\n",
    "# evaluate the model\n",
    "scores = model.evaluate(padded_test_sequences, test_set[\"label\"], verbose=0)\n",
    "print(\"%s: %.2f%%\" % (model.metrics_names[1], scores[1]*100))\n",
    "\n",
    "print(classification_report(test_set[\"label\"], pred))"
   ]
  },
  {
   "cell_type": "code",
   "execution_count": 32,
   "metadata": {},
   "outputs": [
    {
     "name": "stdout",
     "output_type": "stream",
     "text": [
      "         freq\n",
      "several    40\n",
      "posters     5\n",
      "have      911\n",
      "quoted      1\n",
      "renoir      6\n",
      "   word_freq  count   percent    cumsum\n",
      "0          1   8356  0.495170  0.495170\n",
      "1          2   2688  0.159289  0.654459\n",
      "2          3   1386  0.082133  0.736593\n",
      "3          4    832  0.049304  0.785896\n",
      "4          5    560  0.033185  0.819081\n"
     ]
    },
    {
     "data": {
      "image/png": "[encoded data removed]",
      "text/plain": [
       "<matplotlib.figure.Figure at 0x1416f8eb8>"
      ]
     },
     "metadata": {},
     "output_type": "display_data"
    }
   ],
   "source": [
    "# Exercise 5.9.1 Set MAX_NB_WORDS to \n",
    "# include words that appear at least K times\n",
    "\n",
    "import matplotlib.pyplot as plt\n",
    "import numpy as np\n",
    "import pandas as pd\n",
    "\n",
    "# get count of each word\n",
    "df=pd.DataFrame.from_dict(tokenizer.word_counts, orient=\"index\")\n",
    "df.columns=['freq']\n",
    "print(df.head())\n",
    "\n",
    "# get histogram of word count\n",
    "df=df['freq'].value_counts().reset_index()\n",
    "df.columns=['word_freq','count']\n",
    "\n",
    "# sort by word_freq\n",
    "df=df.sort_values(by='word_freq')\n",
    "\n",
    "# convert absolute counts to precentage\n",
    "df['percent']=df['count']/len(tokenizer.word_counts)\n",
    "# get cumulative percentage\n",
    "df['cumsum']=df['percent'].cumsum()\n",
    "\n",
    "print(df.head())\n",
    "\n",
    "df.iloc[0:50].plot(x='word_freq', y='cumsum');\n",
    "\n",
    "plt.show();\n",
    "\n",
    "# if set min count for word to 10, \n",
    "# what % of words can be included?\n",
    "# how many words will be included?\n",
    "# This is the parameter MAX_NB_WORDS\n",
    "# tokenizer = Tokenizer(num_words=MAX_NB_WORDS)"
   ]
  },
  {
   "cell_type": "code",
   "execution_count": 31,
   "metadata": {},
   "outputs": [
    {
     "name": "stdout",
     "output_type": "stream",
     "text": [
      "     sent_length  counts  percent   cumsum\n",
      "188           10       1  0.00125  0.00125\n",
      "195           28       1  0.00125  0.00250\n",
      "184           36       1  0.00125  0.00375\n"
     ]
    },
    {
     "data": {
      "image/png": "[encoded data removed]",
      "text/plain": [
       "<matplotlib.figure.Figure at 0x1416d4550>"
      ]
     },
     "metadata": {},
     "output_type": "display_data"
    }
   ],
   "source": [
    "import pandas as pd\n",
    "\n",
    "# create a series based on the length of all sentences\n",
    "sen_len=pd.Series([len(item) for item in sequences])\n",
    "\n",
    "# create histogram of sentence length\n",
    "# the \"index\" is the sentence length\n",
    "# \"counts\" is the count of sentences at a length\n",
    "df=sen_len.value_counts().reset_index().sort_values(by='index')\n",
    "df.columns=['sent_length','counts']\n",
    "\n",
    "# sort by sentence length\n",
    "# get percentage and cumulative percentage\n",
    "\n",
    "df['percent']=df['counts']/len(sen_len)\n",
    "df['cumsum']=df['percent'].cumsum()\n",
    "print(df.head(3))\n",
    "\n",
    "# From the plot, 90% sentences have length<500\n",
    "# so it makes sense to set MAX_DOC_LEN=4~500 \n",
    "df.plot(x=\"sent_length\", y='cumsum');\n",
    "plt.show();\n",
    "\n",
    "# what will be the minimum sentence length\n",
    "# such that 99% of sentences will not be truncated?"
   ]
  },
  {
   "cell_type": "code",
   "execution_count": null,
   "metadata": {
    "collapsed": true
   },
   "outputs": [],
   "source": []
  }
 ],
 "metadata": {
  "kernelspec": {
   "display_name": "Python 3",
   "language": "python",
   "name": "python3"
  },
  "language_info": {
   "codemirror_mode": {
    "name": "ipython",
    "version": 3
   },
   "file_extension": ".py",
   "mimetype": "text/x-python",
   "name": "python",
   "nbconvert_exporter": "python",
   "pygments_lexer": "ipython3",
   "version": "3.6.2"
  }
 },
 "nbformat": 4,
 "nbformat_minor": 2
}
