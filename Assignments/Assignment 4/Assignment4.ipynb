{
 "cells": [
  {
   "cell_type": "markdown",
   "metadata": {},
   "source": [
    "# <center>Assignment 4 : Text Processing </center>\n",
    "\n",
    "Requirements:\n",
    "\n",
    "1. Define a function \"**tokenize**\" as follows:\n",
    "   - takes a string as an input\n",
    "   - converts the string into lowercase\n",
    "   - tokenizes the lowercased string into tokens. Each token has at least two characters. A token **only contains letters (i.e. a-z or A-Z), \"-\" (hyphen), or \"_\" (underscore)**. Moreover, ** a token cannot starts or ends with \"-\" or \"_\" **. \n",
    "   - removes stop words from the tokens (use English stop words list from NLTK)\n",
    "   - returns the resulting token list as the output\n",
    "   \n",
    "2. Define a function \"**sentiment_analysis**\" as follows:\n",
    "   - takes a string, a list of positive words, and a list of negative words as inputs. Assume the lists are read from positive-words.txt and negative-words.txt outside of this function.\n",
    "   - tokenize the string using NLTK word tokenizer\n",
    "   - counts positive words and negative words in the tokens using the positive/negative words lists. The final positive/negative words are defined as follows:\n",
    "     - Positive words:\n",
    "       * a positive word not preceded by a negation word (i.e. not, n't, no, cannot, neither, nor, too)\n",
    "       * a negative word preceded by a negation word\n",
    "     - Negative words:\n",
    "       * a negative word not preceded by a negation word\n",
    "       * a positive word preceded by a negation word\n",
    "   - determines the sentiment of the string as follows:\n",
    "     - 2: number of positive words > number of negative words\n",
    "     - 1: number of positive words <= number of negative words\n",
    "   - returns the sentiment \n",
    "    \n",
    "3. Define a function called **performance_evaluate** to evaluate the accuracy of the sentiment analysis in (2) as follows: \n",
    "   - takes an input file (\"amazon_review_300.csv\"), a list of positive words, and a list of negative words as inputs. The input file has a list of reviews in the format of (label, title, review). Use label (either '2' or '1') and review columns (i.e. columns 1 and 3 only) here.\n",
    "   - reads the input file to get reviews as a list of (label, reviews) tuples\n",
    "   - for each review, predicts its sentiment using the function defined in (2), and compare the prediction with its label\n",
    "   - returns the accuracy as the number of correct sentiment predictions/total reviews\n",
    "    "
   ]
  },
  {
   "cell_type": "code",
   "execution_count": null,
   "metadata": {
    "collapsed": true
   },
   "outputs": [],
   "source": [
    "\n",
    "def tokenize(text):\n",
    "    \n",
    "    tokens=[]\n",
    "    \n",
    "    # write your code here\n",
    "   \n",
    "    return tokens\n",
    "\n",
    "def sentiment_analysis(text, positive_words, negative_words):\n",
    "    \n",
    "    sentiment=None\n",
    "    \n",
    "    # write your code here\n",
    "    \n",
    "    return sentiment\n",
    "\n",
    "\n",
    "def performance_evaluate(input_file, positive_words, negative_words):\n",
    "    \n",
    "    accuracy=None\n",
    "\n",
    "    # write your code here\n",
    "    \n",
    "    return accuracy\n"
   ]
  },
  {
   "cell_type": "code",
   "execution_count": null,
   "metadata": {},
   "outputs": [],
   "source": [
    "if __name__ == \"__main__\":  \n",
    "    \n",
    "    text=\"this is a breath-taking ambitious movie; test text: abc_dcd abc_ dvr89w, abc-dcd -abc\"\n",
    "\n",
    "    tokens=tokenize(text)\n",
    "    print(\"tokens:\")\n",
    "    print(tokens)\n",
    "    \n",
    "    \n",
    "    with open(\"../dataset/positive-words.txt\",'r') as f:\n",
    "        positive_words=[line.strip() for line in f]\n",
    "        \n",
    "    with open(\"../dataset/negative-words.txt\",'r') as f:\n",
    "        negative_words=[line.strip() for line in f]\n",
    "        \n",
    "    print(\"\\nsentiment\")\n",
    "    sentiment=sentiment_analysis(text, positive_words, negative_words)\n",
    "    print(sentiment)\n",
    "    \n",
    "    accuracy=performance_evaluate(\"../dataset/amazon_review_300.csv\", positive_words, negative_words)\n",
    "    print(\"\\naccuracy\")\n",
    "    print(accuracy)\n",
    "\n"
   ]
  },
  {
   "cell_type": "code",
   "execution_count": null,
   "metadata": {
    "collapsed": true
   },
   "outputs": [],
   "source": []
  }
 ],
 "metadata": {
  "kernelspec": {
   "display_name": "Python 3",
   "language": "python",
   "name": "python3"
  },
  "language_info": {
   "codemirror_mode": {
    "name": "ipython",
    "version": 3
   },
   "file_extension": ".py",
   "mimetype": "text/x-python",
   "name": "python",
   "nbconvert_exporter": "python",
   "pygments_lexer": "ipython3",
   "version": "3.6.1"
  }
 },
 "nbformat": 4,
 "nbformat_minor": 2
}
