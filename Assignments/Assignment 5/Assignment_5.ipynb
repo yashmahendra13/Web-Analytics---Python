{
 "cells": [
  {
   "cell_type": "markdown",
   "metadata": {},
   "source": [
    "# Assignment 5: Natural Language Processing - Collocations and TF-IDF "
   ]
  },
  {
   "cell_type": "markdown",
   "metadata": {},
   "source": [
    "## 1.  collocations\n",
    "- Define a function top_collocation(tokens, K) to find top-K collocations in specific patterns in a document as follows:\n",
    "  - takes a list of tokens and K as inputs\n",
    "  - uses the following steps to find collocations:\n",
    "    - POS tag each token\n",
    "    - create bigrams\n",
    "    - get frequency of each bigram (you can use nltk.FreqDist)\n",
    "    - keep only bigrams matching the following patterns:\n",
    "       - Adj + Noun: e.g. linear function\n",
    "       - Noun + Noun: e.g. regression coefficient\n",
    "  - returns top K collocations by frequency"
   ]
  },
  {
   "cell_type": "markdown",
   "metadata": {},
   "source": [
    "## 2. Document search by TF-IDF\n",
    "\n",
    "1. Modify tfidf and get_doc_tokens functions in Section 7.5 of your lecture notes to add “normalize” as a parameter. This parameter can take two possible values: None, \"stem\". The default value is None; if this parameter is set to \"stem\", stem each token. \n",
    "2. In the main block, do the following:\n",
    "    1. Read the dataset “amazon_review_300.csv”. This dataset has 3 columns: label, title, review. We’ll use “review” column only in this assignment.\n",
    "    2. Calculate the tf-idf matrix for all the reviews using the modified functions tfidf function, each time with a different “normalize” value \n",
    "    3. Take any review from your dataset, for each \"normalize\" option, find the top 5 documents most similar to the selected review, and print out these reviews\n",
    "    4. Check if the top 5 reviews change under different \"normalize\" options. Which option do you think works better for the search? Write down your analysis as a print-out, or attach a txt file if you wish.\n",
    "    5. (**bouns**) For each pair of similar reviews you find in (C), e.g. review x is similar to review y, find matched words under each \"normalize\" option. Print out top 10 words contributing most to their cosine similarity. (Hint: you need to modify the tfidf function to return the set of words as a vocabulary)"
   ]
  },
  {
   "cell_type": "code",
   "execution_count": 1,
   "metadata": {
    "collapsed": true
   },
   "outputs": [],
   "source": [
    "# add import statement\n",
    "\n",
    "def top_collocation(tokens, K):\n",
    "    result=[]\n",
    "    \n",
    "    # add your code here\n",
    "    \n",
    "    return result\n",
    "\n",
    "\n",
    "# modify these two functions\n",
    "def get_doc_tokens(doc):\n",
    " \n",
    "    return None\n",
    "\n",
    "def tfidf(docs):\n",
    "    \n",
    "    return None\n",
    "\n",
    "            "
   ]
  },
  {
   "cell_type": "code",
   "execution_count": null,
   "metadata": {},
   "outputs": [],
   "source": [
    "import nltk\n",
    "import csv\n",
    "\n",
    "if __name__ == \"__main__\":  \n",
    "    \n",
    "    # test collocation\n",
    "    text=nltk.corpus.reuters.raw('test/14826')\n",
    "    tokens=nltk.word_tokenize(text.lower())\n",
    "    print(top_collocation(tokens, 10))\n",
    "    \n",
    "    \n",
    "    # load data\n",
    "    docs=[]\n",
    "    with open(\"../dataset/amazon_review_300.csv\",\"r\") as f:\n",
    "        reader=csv.reader(f)\n",
    "        for line in reader:\n",
    "            docs.append(line[2])\n",
    "    \n",
    "    # Find similar documents -- No STEMMING\n",
    "    \n",
    "    # Find similar documents -- STEMMING  "
   ]
  }
 ],
 "metadata": {
  "kernelspec": {
   "display_name": "Python 3",
   "language": "python",
   "name": "python3"
  },
  "language_info": {
   "codemirror_mode": {
    "name": "ipython",
    "version": 3
   },
   "file_extension": ".py",
   "mimetype": "text/x-python",
   "name": "python",
   "nbconvert_exporter": "python",
   "pygments_lexer": "ipython3",
   "version": "3.6.1"
  }
 },
 "nbformat": 4,
 "nbformat_minor": 2
}
