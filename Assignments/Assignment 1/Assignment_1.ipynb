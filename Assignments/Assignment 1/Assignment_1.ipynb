{
 "cells": [
  {
   "cell_type": "markdown",
   "metadata": {},
   "source": [
    "# <center>Assignment 1</center>"
   ]
  },
  {
   "cell_type": "markdown",
   "metadata": {},
   "source": [
    "## 1. Define a function to analyze the frequency of words in a string ##\n",
    " - Define a function named \"**count_token**\" which\n",
    "     * has a string as an input \n",
    "     * splits the string into a list of tokens by space. For example, \"hello world\" will be split into two tokens ['hello','world']\n",
    "     * for the tokens, do the following in sequence:\n",
    "        * strips all leading and trailing space of each token\n",
    "        * removes a token if it contain no more than 1 character (use function *len* on each token, i.e. *len*(token)<=1)\n",
    "        * converts all tokens into lower case\n",
    "     * create a dictionary containing the count of every remaining token, e.g. {'is': 5, 'hello':1,...}\n",
    "     * returns the dictionary as the output\n",
    "     \n",
    "## 2. Define a class to analyze a collection of documents ##\n",
    " - Define a new class called \"**Text_Analyzer**\" which has the following:\n",
    "    - two variables: **input_file**, **output_file**. Initialize them using the class constructor.\n",
    "    - a function named \"**analyze**\" that:\n",
    "      * reads all lines from input_file and concatenate them into a string\n",
    "      * calls the function \"count_token\" to get a token-count dictionary \n",
    "      * saves the dictionary into output_file with each key-value pair as a line delimited by comma (see \"foo.csv\" in Exercise 10.3 for examples).\n",
    "      \n",
    "## 3. Define a function to analyze a numpy array\n",
    " - Assume we have a array which contains term frequency of each document. Where each row is a document, each column is a word, and the value denotes the frequency of the word in the document. Define a function named \"analyze_tf\" which:\n",
    "      * takes the array as an input\n",
    "      * normalizes the frequency of each word as: word frequency divided by the length of the document. Save the result as an array named **tf** (i.e. term frequency)\n",
    "      * calculates the document frequency (**df**) of each word, e.g. how many documents contain a specific word\n",
    "      * calculates **tf_idf** array as: **tf / df** (tf divided by df). The reason is, if a word appears in most documents, it does not have the discriminative power and often is called a \"stop\" word. The inverse of df can downgrade the weight of such words.\n",
    "      * for each document, find out the **indexes of words with top 3 largest values in the tf_idf array**. Print out these indexes.\n",
    "      * return the tf_idf array.\n",
    " - Note, for all the steps, ** do not use any loop**. Just use array functions and broadcasting for high performance computation.\n",
    "     \n",
    "\n",
    "## Submission Guideline##\n",
    "- Following the solution template provided below. Use __main__ block to test your functions and class\n",
    "- Save your code into a python file (e.g. assign1.py) that can be run in a python 3 environment. In Jupyter Notebook, you can export notebook as .py file in menu \"File->Download as\".\n",
    "- Make sure you have all import statements. To test your code, open a command window in your current python working folder, type \"python assign1.py\" to see if it can run successfully."
   ]
  },
  {
   "cell_type": "code",
   "execution_count": null,
   "metadata": {
    "collapsed": true
   },
   "outputs": [],
   "source": [
    "# Structure of your solution to Assignment 1 \n",
    "\n",
    "import numpy as np\n",
    "import csv\n",
    "\n",
    "def count_token(text):\n",
    "    \n",
    "    token_count={}\n",
    "    \n",
    "    # add your code\n",
    "    \n",
    "    return token_count\n",
    "\n",
    "class Text_Analyzer(object):\n",
    "    \n",
    "    def __init__(self, input_file, output_file):\n",
    "        \n",
    "        # add your code\n",
    "          \n",
    "    def analyze(self):\n",
    "        \n",
    "        # add your code\n",
    "\n",
    "def analyze_tf(arr):\n",
    "    \n",
    "    tf_idf=None\n",
    "    \n",
    "    # add your code\n",
    "    \n",
    "    return tf_idf\n",
    "\n",
    "# best practice to test your class\n",
    "# if your script is exported as a module,\n",
    "# the following part is ignored\n",
    "# this is equivalent to main() in Java\n",
    "\n",
    "if __name__ == \"__main__\":  \n",
    "    \n",
    "    # Test Question 1\n",
    "    text='''Hello world!\n",
    "        This is a hello world example !'''   \n",
    "    print(count_token(text))\n",
    "    \n",
    "    # # The output of your text should be: \n",
    "    # {'this': 1, 'is': 1, 'example': 1, 'world!': 1, 'world': 1, 'hello': 2}\n",
    "    \n",
    "    # Test Question 2\n",
    "    analyzer=Text_Analyzer(\"foo.txt\", \"foo.csv\")\n",
    "    vocabulary=analyzer.analyze()\n",
    "    \n",
    "    #3 Test Question 3\n",
    "    arr=np.random.randint(0,3,(4,8))\n",
    "\n",
    "    tf_idf=analyze_tf(arr)"
   ]
  },
  {
   "cell_type": "code",
   "execution_count": null,
   "metadata": {
    "collapsed": true
   },
   "outputs": [],
   "source": []
  }
 ],
 "metadata": {
  "kernelspec": {
   "display_name": "Python 3",
   "language": "python",
   "name": "python3"
  },
  "language_info": {
   "codemirror_mode": {
    "name": "ipython",
    "version": 3
   },
   "file_extension": ".py",
   "mimetype": "text/x-python",
   "name": "python",
   "nbconvert_exporter": "python",
   "pygments_lexer": "ipython3",
   "version": "3.6.1"
  }
 },
 "nbformat": 4,
 "nbformat_minor": 2
}
