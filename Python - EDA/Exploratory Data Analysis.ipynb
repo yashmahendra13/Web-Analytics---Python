{
 "cells": [
  {
   "cell_type": "markdown",
   "metadata": {},
   "source": [
    "# <center>Exploratory Data Analysis</center>\n",
    "References:\n",
    "* https://www.datacamp.com/community/tutorials/exploratory-data-analysis-python"
   ]
  },
  {
   "cell_type": "markdown",
   "metadata": {},
   "source": [
    "##  1. What is Exploratory Data Analysis (EDA)\n",
    "\n",
    "- EDA is an approach to analyzing data sets to \n",
    "  * prepare data for modeling, e.g. \n",
    "    - dealing with missing values\n",
    "    - feature engineering\n",
    "    - correlation analysis etc\n",
    "  * summarize their main characteristics, often with visual methods (i.e. **data profiling**)\n",
    "  * generate hypotheses for subsequent modeling stage "
   ]
  },
  {
   "cell_type": "markdown",
   "metadata": {},
   "source": [
    "## 2. Example\n",
    "- Data set: UCI Auto MPG datset (https://archive.ics.uci.edu/ml/datasets/Auto+MPG)\n",
    "- Target:\n",
    "  * Analyze variable correlation\n",
    "  * Data profiling (visualization)"
   ]
  },
  {
   "cell_type": "code",
   "execution_count": null,
   "metadata": {},
   "outputs": [],
   "source": [
    "# Exercise 2.1. Load the data and library\n",
    "\n",
    "from IPython.core.interactiveshell import InteractiveShell\n",
    "InteractiveShell.ast_node_interactivity = \"all\"\n",
    "\n",
    "import pandas as pd\n",
    "\n",
    "df = pd.read_csv('../dataset/auto-mpg.csv', header=0)\n",
    "df.head()\n",
    "df.info()"
   ]
  },
  {
   "cell_type": "markdown",
   "metadata": {},
   "source": [
    "## 3. Deal with Missing Values\n",
    "- Find variables with missing values\n",
    "- How to deal variables with missing values\n",
    "  - drop samples (rows)\n",
    "  - drop variables (columns)\n",
    "  - interpolate"
   ]
  },
  {
   "cell_type": "code",
   "execution_count": null,
   "metadata": {},
   "outputs": [],
   "source": [
    "# Exercise 3.1. Create a simply dataframe\n",
    "# Missing values are shown as NaN (not a number)\n",
    "\n",
    "import numpy as np\n",
    "\n",
    "df1 = pd.DataFrame([[np.nan, 2, np.nan, 0], [3, 4, 6, 1],\n",
    "                   [np.nan, np.nan, np.nan, 5], [5, 8, 2, 5]],\n",
    "                   columns=list('ABCD'))\n",
    "df1"
   ]
  },
  {
   "cell_type": "code",
   "execution_count": null,
   "metadata": {},
   "outputs": [],
   "source": [
    "# Exercise 3.2. Find missing values\n",
    "\n",
    "# determine which value is null\n",
    "df1.isnull()\n",
    "\n",
    "# return any row which has at least one null value\n",
    "df1[df1.isnull().any(axis=1)]\n",
    "\n",
    "# get number of null values in each column\n",
    "df1.isnull().sum(axis=0)"
   ]
  },
  {
   "cell_type": "code",
   "execution_count": null,
   "metadata": {},
   "outputs": [],
   "source": [
    "# Exercise 3.3. drop missing values\n",
    "df1\n",
    "# to drop rows which contains any NaN, use how='any'\n",
    "df1.dropna(axis=0, how='any')  \n",
    "\n",
    "# drop the columns which has less than 3 non-null values\n",
    "df1.dropna(axis=1, thresh=3)"
   ]
  },
  {
   "cell_type": "code",
   "execution_count": null,
   "metadata": {},
   "outputs": [],
   "source": [
    "# Exercise 3.4. interpolate missing values\n",
    "df1\n",
    "df1.interpolate(method='linear')"
   ]
  },
  {
   "cell_type": "code",
   "execution_count": null,
   "metadata": {},
   "outputs": [],
   "source": [
    "df.isnull().sum(axis=0)"
   ]
  },
  {
   "cell_type": "code",
   "execution_count": null,
   "metadata": {},
   "outputs": [],
   "source": [
    "# Exercise 3.5. # drop samples that have missing values\n",
    "\n",
    "df=df.dropna(axis=0, how='any')  \n",
    "df.info()"
   ]
  },
  {
   "cell_type": "markdown",
   "metadata": {},
   "source": [
    "## 4. Visualization\n",
    "\n",
    "- Typical graphical techniques used in EDA:\n",
    "  - Bar chart\n",
    "  - Histogram\n",
    "  - Line chart\n",
    "  - Scatter plot\n",
    "  - Heatmap\n",
    "  - ...\n",
    "  \n",
    "- Plot libraries\n",
    "  - Matplotlib: a Python 2D plotting library which produces publication quality figures  \n",
    "  - Seaborn:  a Python visualization library based on matplotlib. It provides a high-level interface for drawing attractive statistical graphics\n",
    "  - Pandas plot: very convenient library based on matplotlib"
   ]
  },
  {
   "cell_type": "code",
   "execution_count": null,
   "metadata": {
    "collapsed": true
   },
   "outputs": [],
   "source": [
    "# Exercise 4.1. Import plotting libraries\n",
    "\n",
    "import seaborn as sns\n",
    "import matplotlib.pyplot as plt\n",
    "\n",
    "# plot charts inline\n",
    "%matplotlib inline\n"
   ]
  },
  {
   "cell_type": "markdown",
   "metadata": {},
   "source": [
    "### 4.1 Barchart\n",
    "- Different forms: single bar, stacked, verticle, horizontal \n",
    "- Barcharts can be conveniently created using pandas\n",
    "  * by default, **x axis is the index, and y can be columns**\n",
    "  * value_counts, groupby, agg, pivot_table, or crosstab can be used to create values for plotting"
   ]
  },
  {
   "cell_type": "code",
   "execution_count": null,
   "metadata": {},
   "outputs": [],
   "source": [
    "# Exercise 4.1.1 Plot number of cars by cylinders\n",
    "\n",
    "ax=df.cylinders.value_counts().\\\n",
    "   plot.barh(figsize=(8,4), title=\"Model count by cylinders\");\n",
    "\n",
    "# set labels\n",
    "ax.set(ylabel=\"cylinders\", xlabel=\"model count\");\n",
    "\n",
    "# note: \";\" to suppress unwanted output\n",
    "\n"
   ]
  },
  {
   "cell_type": "code",
   "execution_count": null,
   "metadata": {},
   "outputs": [],
   "source": [
    "# create a bar chart to count models per region"
   ]
  },
  {
   "cell_type": "code",
   "execution_count": null,
   "metadata": {},
   "outputs": [],
   "source": [
    "# Exercise 4.1.2. Use seasborn to generate attractive plot\n",
    "\n",
    "# count cars by year\n",
    "count_by_year=df.model_year.value_counts().reset_index()\n",
    "count_by_year.columns=[\"year\", \"model_count\"]\n",
    "count_by_year"
   ]
  },
  {
   "cell_type": "code",
   "execution_count": null,
   "metadata": {},
   "outputs": [],
   "source": [
    "# set style\n",
    "sns.set_style(\"whitegrid\");\n",
    "\n",
    "plt.figure(figsize=(10,5));\n",
    "sns.barplot(x='year',y='model_count', data=count_by_year);\n",
    "plt.show();   \n"
   ]
  },
  {
   "cell_type": "markdown",
   "metadata": {},
   "source": [
    "### 4.2. Line chart"
   ]
  },
  {
   "cell_type": "code",
   "execution_count": null,
   "metadata": {},
   "outputs": [],
   "source": [
    "# Exercise 4.2.1. line chart\n",
    "\n",
    "# How does mpg/weight change over time?\n",
    "\n",
    "# show the relationship between \n",
    "# average mpg/weight and model year\n",
    "\n",
    "df.groupby('model_year')[\"mpg\",\"acceleration\"].mean()\\\n",
    ".plot(kind='line', figsize=(8,4))\\\n",
    ".legend(loc='center left', bbox_to_anchor=(1, 0.5));  # set legend\n",
    "\n",
    "# what finding can be seen here?"
   ]
  },
  {
   "cell_type": "markdown",
   "metadata": {},
   "source": [
    "### 4.3 Stacked barchart"
   ]
  },
  {
   "cell_type": "code",
   "execution_count": null,
   "metadata": {},
   "outputs": [],
   "source": [
    "# Exercise 4.3.1. What kind of cars are popular over the years?\n",
    "\n",
    "# cross tabulation between model_year and cylinders\n",
    "ctab=pd.crosstab(index=df.model_year, columns=df.cylinders)\n",
    "ctab\n",
    "\n",
    "# normalize by row, i.e. get percentage of each model in a year\n",
    "ctab=ctab.apply(lambda row: row/sum(row), axis=1)\n",
    "\n",
    "# reorder column sequence by its popularity\n",
    "ctab=ctab[[4,8,6,3,5]]\n",
    "ctab"
   ]
  },
  {
   "cell_type": "code",
   "execution_count": null,
   "metadata": {},
   "outputs": [],
   "source": [
    "# Exercise 4.3.2 Stacked bar chart\n",
    "\n",
    "ctab.plot(kind='bar', stacked=True, colormap='rainbow', \\\n",
    "   figsize=(8,5), title=\"model (# of cylinders) popularity by time\").\\\n",
    "   legend(loc='center left', bbox_to_anchor=(1, 0.5));\n",
    "    \n",
    "# what insights can be found from this chart?"
   ]
  },
  {
   "cell_type": "markdown",
   "metadata": {},
   "source": [
    "### 4.4 Histogram : learn distribution of varilables"
   ]
  },
  {
   "cell_type": "code",
   "execution_count": null,
   "metadata": {},
   "outputs": [],
   "source": [
    "# Exercise 4.4.1. Histogram\n",
    "\n",
    "# plot histgram using matlibplot\n",
    "plt.figure(figsize=(5, 5));\n",
    "plt.hist(df['weight'], color='g', bins=50);\n",
    "plt.xlabel(\"weight\");\n",
    "plt.ylabel(\"Count\");"
   ]
  },
  {
   "cell_type": "code",
   "execution_count": null,
   "metadata": {},
   "outputs": [],
   "source": [
    "# Exercise 4.4.2. plot histogram and PDF using seaborn\n",
    "\n",
    "sns.set_style(\"whitegrid\")\n",
    "plt.figure(figsize=(5, 5))\n",
    "sns.distplot(df[\"horsepower\"], color='g', bins=50);"
   ]
  },
  {
   "cell_type": "code",
   "execution_count": null,
   "metadata": {},
   "outputs": [],
   "source": [
    "# Exercise 4.4.3. plot multiple histogram plots using pandas plot\n",
    "\n",
    "df[['horsepower', 'weight','acceleration','displacement']]\\\n",
    ".hist(figsize=(8, 8), bins=50);"
   ]
  },
  {
   "cell_type": "markdown",
   "metadata": {},
   "source": [
    "### 4.5. Scatterplot: show interaction between variables\n",
    "- Pairwise scatter plot: discover interaction between any pair of variables\n",
    "- Check variable correlation using pd.corr()"
   ]
  },
  {
   "cell_type": "code",
   "execution_count": null,
   "metadata": {},
   "outputs": [],
   "source": [
    "# Exercise 4.5.1. Pairwise scatterplot\n",
    "\n",
    "sns.pairplot(data=df);\n",
    "\n",
    "# mpg, weight, displacement, ... \n",
    "# seem to be highly correlated"
   ]
  },
  {
   "cell_type": "code",
   "execution_count": null,
   "metadata": {},
   "outputs": [],
   "source": [
    "# Exercise 4.5.2. pairwise scatterplot with selected columns\n",
    "\n",
    "# select variables for x and y axis\n",
    "# color the points by origin (hue)\n",
    "\n",
    "sns.pairplot(data=df, x_vars=['mpg', 'weight', 'displacement'],\\\n",
    "             y_vars=['mpg', 'weight', 'displacement'], \\\n",
    "             hue=\"origin\");\n",
    "\n",
    "# anything interesting can be found here?\n",
    "# how about mpg/weight/displacement by origin?\n"
   ]
  },
  {
   "cell_type": "code",
   "execution_count": null,
   "metadata": {},
   "outputs": [],
   "source": [
    "# Exercise 4.5.3. Variable correlation\n",
    "df.corr()"
   ]
  },
  {
   "cell_type": "markdown",
   "metadata": {},
   "source": [
    "### 4.6. FacetGrid: Show variable relationship by facet"
   ]
  },
  {
   "cell_type": "code",
   "execution_count": null,
   "metadata": {},
   "outputs": [],
   "source": [
    "# Exercise 4.6.1.: How is horsepower and mpg correlated\n",
    "#                 for cars from different origin? \n",
    "\n",
    "# Generate grid by origin\n",
    "g = sns.FacetGrid(df, col=\"origin\") ;\n",
    "\n",
    "# plot a scatterplot between hrsepower and mpg \n",
    "# for each facet in the grid\n",
    "g.map(plt.scatter, \"horsepower\", \"mpg\") ;\n",
    "\n",
    "# what insights can be found from this facet plot?\n"
   ]
  },
  {
   "cell_type": "markdown",
   "metadata": {},
   "source": [
    "### 4.7 Heatmap"
   ]
  },
  {
   "cell_type": "code",
   "execution_count": null,
   "metadata": {},
   "outputs": [],
   "source": [
    "# Exercise 4.7.1 Heatmap\n",
    "\n",
    "# how did mpg change by time in different rigions?\n",
    "\n",
    "# create cross tab\n",
    "ctab=pd.crosstab(index=df.model_year,columns=df.origin,\\\n",
    "                 values=df.mpg, aggfunc=np.mean)\n",
    "ctab\n",
    "# sort year in decending order\n",
    "ctab.sort_index(ascending=False, inplace=True)\n",
    "\n"
   ]
  },
  {
   "cell_type": "code",
   "execution_count": null,
   "metadata": {},
   "outputs": [],
   "source": [
    "sns.heatmap(ctab);\n",
    "\n",
    "# what conclusion can you get from the heat map?"
   ]
  },
  {
   "cell_type": "markdown",
   "metadata": {},
   "source": [
    "## 5. Regression\n",
    "- For details, see http://www.statsmodels.org/dev/example_formulas.html\n",
    "- For categorical variables, you can use R style formulas\n",
    "- Model interpretation: http://connor-johnson.com/2014/02/18/linear-regression-with-python/"
   ]
  },
  {
   "cell_type": "code",
   "execution_count": null,
   "metadata": {},
   "outputs": [],
   "source": [
    "# Exercise 5.1.  OLS(ordinary least squares) regression \n",
    "\n",
    "# linear regression between mpg and other factors\n",
    "\n",
    "import statsmodels.api as sm\n",
    "\n",
    "model = sm.OLS(df.mpg, df[['cylinders', 'displacement','horsepower',\\\n",
    "                           'weight','acceleration']]).fit();\n",
    "\n",
    "# Print out the statistics\n",
    "model.summary()\n"
   ]
  },
  {
   "cell_type": "code",
   "execution_count": null,
   "metadata": {},
   "outputs": [],
   "source": [
    "# Exercise 5.2.\n",
    "\n",
    "import statsmodels.formula.api as smf\n",
    "\n",
    "model = smf.ols(formula='mpg ~ cylinders+ \\\n",
    "displacement+ horsepower+ weight \\\n",
    "+ acceleration+ C(origin)', data=df).fit();\n",
    "\n",
    "# Print out the statistics\n",
    "model.summary()"
   ]
  },
  {
   "cell_type": "code",
   "execution_count": null,
   "metadata": {
    "collapsed": true
   },
   "outputs": [],
   "source": []
  }
 ],
 "metadata": {
  "kernelspec": {
   "display_name": "Python 3",
   "language": "python",
   "name": "python3"
  },
  "language_info": {
   "codemirror_mode": {
    "name": "ipython",
    "version": 3
   },
   "file_extension": ".py",
   "mimetype": "text/x-python",
   "name": "python",
   "nbconvert_exporter": "python",
   "pygments_lexer": "ipython3",
   "version": "3.6.1"
  }
 },
 "nbformat": 4,
 "nbformat_minor": 2
}
