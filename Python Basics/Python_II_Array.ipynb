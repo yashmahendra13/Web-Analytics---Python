{
 "cells": [
  {
   "cell_type": "markdown",
   "metadata": {},
   "source": [
    "# <center>Arrays for Scientific Computation</center>\n",
    "References:\n",
    "* https://docs.scipy.org/doc/numpy-dev/user/quickstart.html\n",
    "* http://cs231n.github.io/python-numpy-tutorial/#numpy\n",
    "* https://docs.scipy.org/doc/scipy/reference/sparse.html\n",
    "* https://eli.thegreenplace.net/2015/broadcasting-arrays-in-numpy/"
   ]
  },
  {
   "cell_type": "markdown",
   "metadata": {},
   "source": [
    "## 1. Numpy\n",
    "- Numpy is the core library for scientific computing in Python. It provides high-performance multidimensional array objects, and tools for working with these arrays. \n",
    "\n",
    "- A numpy **array** is a grid of values, usually of the same type, although technically you can store values of different types (this may complicate array operation). \n",
    "    - The number of dimensions is the **rank** of the array\n",
    "    - The **shape** of an array is a tuple of integers giving the size of the array along each dimension\n",
    "    - Numpy arrays can be initialized from nested Python lists, and access elements using square brackets"
   ]
  },
  {
   "cell_type": "code",
   "execution_count": 2,
   "metadata": {
    "collapsed": true
   },
   "outputs": [],
   "source": [
    "# enable interactiveShell\n",
    "# so that Jupyter will display variables or \n",
    "# unassigned output of a statement \n",
    "# without the need for a print statement\n",
    "\n",
    "from IPython.core.interactiveshell import InteractiveShell\n",
    "InteractiveShell.ast_node_interactivity = \"all\"\n",
    "\n",
    "# import numpy package\n",
    "import numpy as np\n"
   ]
  },
  {
   "cell_type": "code",
   "execution_count": 2,
   "metadata": {},
   "outputs": [
    {
     "name": "stdout",
     "output_type": "stream",
     "text": [
      "data type: <class 'numpy.ndarray'>\n",
      "array shape,  (3,)\n",
      "the first element: 1\n"
     ]
    },
    {
     "data": {
      "text/plain": [
       "array([5, 2, 3])"
      ]
     },
     "execution_count": 2,
     "metadata": {},
     "output_type": "execute_result"
    }
   ],
   "source": [
    "# Exercise 1.1. Initialize an array from list\n",
    "\n",
    "# Create a rank 1 array\n",
    "a = np.array([1, 2, 3])  \n",
    "\n",
    "print (\"data type:\", type(a))\n",
    "print(\"array shape, \",a.shape)\n",
    "print(\"the first element:\", a[0])\n",
    "\n",
    "# Change an element of the array\n",
    "a[0] = 5                 \n",
    "a"
   ]
  },
  {
   "cell_type": "code",
   "execution_count": 3,
   "metadata": {},
   "outputs": [
    {
     "data": {
      "text/plain": [
       "array([[1, 2, 3],\n",
       "       [4, 5, 6]])"
      ]
     },
     "execution_count": 3,
     "metadata": {},
     "output_type": "execute_result"
    },
    {
     "name": "stdout",
     "output_type": "stream",
     "text": [
      "b's shape: (2, 3)\n",
      "value at (0,0):  1\n",
      "value at (1,2):  6\n"
     ]
    }
   ],
   "source": [
    "# Exercise 1.2. Create a rank 2 array from list of lists\n",
    "\n",
    "b = np.array([[1,2,3],[4,5,6]])   \n",
    "b\n",
    "\n",
    "print (\"b's shape:\", b.shape)                   \n",
    "print(\"value at (0,0): \", b[0, 0])\n",
    "print(\"value at (1,2): \", b[1, 2])     "
   ]
  },
  {
   "cell_type": "code",
   "execution_count": 4,
   "metadata": {},
   "outputs": [
    {
     "data": {
      "text/plain": [
       "array([[ 0.,  0.],\n",
       "       [ 0.,  0.]])"
      ]
     },
     "execution_count": 4,
     "metadata": {},
     "output_type": "execute_result"
    }
   ],
   "source": [
    "# Exercise 1.3. Create a rank 2 array of all zeros\n",
    "\n",
    "a = np.zeros((2,2))  \n",
    "a"
   ]
  },
  {
   "cell_type": "code",
   "execution_count": 5,
   "metadata": {},
   "outputs": [
    {
     "data": {
      "text/plain": [
       "array([[ 1.,  1.],\n",
       "       [ 1.,  1.],\n",
       "       [ 1.,  1.]])"
      ]
     },
     "execution_count": 5,
     "metadata": {},
     "output_type": "execute_result"
    }
   ],
   "source": [
    "# Exercise 1.4. Create a rank 2 array of all ones\n",
    "\n",
    "b = np.ones((3,2))   \n",
    "b"
   ]
  },
  {
   "cell_type": "code",
   "execution_count": 6,
   "metadata": {},
   "outputs": [
    {
     "data": {
      "text/plain": [
       "array([[7, 7],\n",
       "       [7, 7]])"
      ]
     },
     "execution_count": 6,
     "metadata": {},
     "output_type": "execute_result"
    }
   ],
   "source": [
    "# Exercise 1.5. Create a constant array\n",
    "\n",
    "c = np.full((2,2), 7) \n",
    "c"
   ]
  },
  {
   "cell_type": "code",
   "execution_count": 7,
   "metadata": {},
   "outputs": [
    {
     "data": {
      "text/plain": [
       "array([[ 1.,  0.],\n",
       "       [ 0.,  1.]])"
      ]
     },
     "execution_count": 7,
     "metadata": {},
     "output_type": "execute_result"
    }
   ],
   "source": [
    "# Exercise 1.6. a 2x2 identity matrix\n",
    "\n",
    "d = np.eye(2)        \n",
    "d"
   ]
  },
  {
   "cell_type": "code",
   "execution_count": 8,
   "metadata": {},
   "outputs": [
    {
     "data": {
      "text/plain": [
       "array([[ 0.04177747,  0.8233474 ],\n",
       "       [ 0.16618748,  0.51203548]])"
      ]
     },
     "execution_count": 8,
     "metadata": {},
     "output_type": "execute_result"
    },
    {
     "data": {
      "text/plain": [
       "array([[3, 5, 3, 2, 2],\n",
       "       [4, 2, 4, 5, 3],\n",
       "       [2, 2, 4, 2, 1],\n",
       "       [1, 1, 2, 4, 5]])"
      ]
     },
     "execution_count": 8,
     "metadata": {},
     "output_type": "execute_result"
    },
    {
     "data": {
      "text/plain": [
       "array([[[ 1.3471418 , -1.15716998],\n",
       "        [-0.30961648,  0.73155703],\n",
       "        [ 0.65633238, -1.57421335]],\n",
       "\n",
       "       [[ 0.30654684, -0.55508745],\n",
       "        [ 0.56175375,  0.08125419],\n",
       "        [-0.12771665, -0.94662242]],\n",
       "\n",
       "       [[ 0.12425935, -0.81744982],\n",
       "        [-1.66029442, -0.15979185],\n",
       "        [ 1.04720451,  1.13550326]],\n",
       "\n",
       "       [[ 0.73634776,  1.05070395],\n",
       "        [-0.0967209 , -2.1548387 ],\n",
       "        [-0.89693619,  1.15879627]]])"
      ]
     },
     "execution_count": 8,
     "metadata": {},
     "output_type": "execute_result"
    }
   ],
   "source": [
    "# Exercise 1.7. # Create a matrix filled with random values\n",
    "\n",
    "# random returns random floats within [0, 1.0)\n",
    "e = np.random.random((2,2)) \n",
    "e\n",
    "\n",
    "# randint(low, high, size): random integer\n",
    "np.random.randint(1, 6, (4,5))\n",
    "\n",
    "# randn(d0, d1, ...dn): random floats from normal distribution \n",
    "np.random.randn(4,3,2)"
   ]
  },
  {
   "cell_type": "markdown",
   "metadata": {},
   "source": [
    "### 1.1. Array Slicing\n",
    " - **Similar to Python lists, numpy arrays can be sliced**. \n",
    " - Since arrays may be multidimensional, you must **specify a slice for each dimension of the array**\n",
    " - **A slice of an array is a view into the same data**, so modifying it will modify the original array."
   ]
  },
  {
   "cell_type": "code",
   "execution_count": 9,
   "metadata": {},
   "outputs": [
    {
     "name": "stdout",
     "output_type": "stream",
     "text": [
      "the first row: [1 2 3 4]\n",
      "shape of 1st row: (4,)\n",
      "0 [1 2 3 4]\n",
      "1 [5 6 7 8]\n",
      "2 [ 9 10 11 12]\n"
     ]
    }
   ],
   "source": [
    "# Exercise 1.1.1 Get a specific row\n",
    "\n",
    "a = np.array([[1,2,3,4], [5,6,7,8], [9,10,11,12]])\n",
    "\n",
    "# get the first row\n",
    "row_1=a[0]      \n",
    "# row_1[0,:] does the same too\n",
    "\n",
    "print(\"the first row:\", row_1)\n",
    "print(\"shape of 1st row:\", row_1.shape)\n",
    "\n",
    "# loop through all rows\n",
    "for idx,row in enumerate(a):\n",
    "    print(idx, row)\n"
   ]
  },
  {
   "cell_type": "code",
   "execution_count": 10,
   "metadata": {},
   "outputs": [
    {
     "name": "stdout",
     "output_type": "stream",
     "text": [
      "the first column: [1 5 9]\n",
      "shape of 1st column: (3,)\n"
     ]
    }
   ],
   "source": [
    "# Exercise 1.1.2 Get a specific column\n",
    "\n",
    "a = np.array([[1,2,3,4], [5,6,7,8], [9,10,11,12]])\n",
    "\n",
    "# get the first column\n",
    "column_1=a[:, 0]      \n",
    "print(\"the first column:\", column_1)\n",
    "print(\"shape of 1st column:\", column_1.shape)"
   ]
  },
  {
   "cell_type": "code",
   "execution_count": 11,
   "metadata": {},
   "outputs": [
    {
     "data": {
      "text/plain": [
       "array([[ 1,  2,  3,  4],\n",
       "       [ 5,  6,  7,  8],\n",
       "       [ 9, 10, 11, 12]])"
      ]
     },
     "execution_count": 11,
     "metadata": {},
     "output_type": "execute_result"
    },
    {
     "data": {
      "text/plain": [
       "array([[2, 3],\n",
       "       [6, 7]])"
      ]
     },
     "execution_count": 11,
     "metadata": {},
     "output_type": "execute_result"
    }
   ],
   "source": [
    "# Exercise 1.1.3 Get subarrays\n",
    "\n",
    "a = np.array([[1,2,3,4], [5,6,7,8], [9,10,11,12]])\n",
    "a\n",
    "\n",
    "# Use slicing to pull out the subarray \n",
    "# consisting of the first 2 rows\n",
    "# and columns 1 and 2 \n",
    "\n",
    "b = a[:2, 1:3]\n",
    "b\n"
   ]
  },
  {
   "cell_type": "code",
   "execution_count": 19,
   "metadata": {},
   "outputs": [
    {
     "data": {
      "text/plain": [
       "array([[ 1,  2,  3,  4],\n",
       "       [ 5,  6,  7,  8],\n",
       "       [ 9, 10, 11, 12]])"
      ]
     },
     "execution_count": 19,
     "metadata": {},
     "output_type": "execute_result"
    },
    {
     "data": {
      "text/plain": [
       "array([[ 1,  2],\n",
       "       [ 9, 10]])"
      ]
     },
     "execution_count": 19,
     "metadata": {},
     "output_type": "execute_result"
    },
    {
     "data": {
      "text/plain": [
       "array([[ 7,  8],\n",
       "       [11, 12]])"
      ]
     },
     "execution_count": 19,
     "metadata": {},
     "output_type": "execute_result"
    },
    {
     "data": {
      "text/plain": [
       "array([[ 4,  3,  2,  1],\n",
       "       [ 8,  7,  6,  5],\n",
       "       [12, 11, 10,  9]])"
      ]
     },
     "execution_count": 19,
     "metadata": {},
     "output_type": "execute_result"
    }
   ],
   "source": [
    "# Exercise 1.1.4 \n",
    "\n",
    "a = np.array([[1,2,3,4], [5,6,7,8], [9,10,11,12]])\n",
    "\n",
    "# 1. Get subset of \"a\" consisting of\n",
    "#    the 1st & 3rd rows and\n",
    "#    the 1st & 2nd columns\n",
    "a\n",
    "a[[0,2], 0:2]\n",
    "\n",
    "# 2. get the last two rows and last two columns\n",
    "a[-2:, -2:]\n",
    "# 3. Reverse the order of columns, i.e. the first column becomes the last\n",
    "a[:, ::-1]"
   ]
  },
  {
   "cell_type": "code",
   "execution_count": null,
   "metadata": {
    "collapsed": true
   },
   "outputs": [],
   "source": [
    "# Exercise 1.1.5: Modify slice\n",
    "\n",
    "# A slice of an array is **a view into the same data**, \n",
    "# so modifying it will modify the original array.\n",
    "\n",
    "a = np.array([[1,2,3,4], [5,6,7,8], [9,10,11,12]])\n",
    "\n",
    "# b is a slice\n",
    "b = a[:2, 1:3]\n",
    "\n",
    "print (\"Original value at (0,1):\", a[0, 1])  \n",
    "b[0, 0] = 77    \n",
    "\n",
    "# b[0, 0] is the same piece of data as a[0, 1]\n",
    "print (\"Modified value at (0,1):\", a[0, 1])  \n",
    "\n",
    "# how to avoid modify the original array? \n",
    "b1=np.copy(b)\n",
    "b1[0,0]=100\n",
    "a\n"
   ]
  },
  {
   "cell_type": "markdown",
   "metadata": {},
   "source": [
    "### 1.2. Boolean array indexing (Selection by conditions)\n",
    "\n",
    "- Boolean array indexing lets you pick out arbitrary elements of an array. \n",
    "- Frequently this type of indexing is used to select elements of an array that satisfy some conditions. \n",
    "- Typically it's used with function **np.where**"
   ]
  },
  {
   "cell_type": "code",
   "execution_count": null,
   "metadata": {
    "collapsed": true
   },
   "outputs": [],
   "source": [
    "# Exercise 1.2.1: boolean array indexing\n",
    "\n",
    "a = np.array([[1,2], [3, 4], [5, 6]])\n",
    "\n",
    "# Find the elements of \"a\" that are bigger than 2;\n",
    "# this returns a numpy array of Booleans of the same\n",
    "# shape as a, where value tells\n",
    "# whether that element of a is > 2\n",
    "\n",
    "bool_idx = (a > 2)  \n",
    "\n",
    "bool_idx"
   ]
  },
  {
   "cell_type": "code",
   "execution_count": null,
   "metadata": {
    "collapsed": true
   },
   "outputs": [],
   "source": [
    "# Exercise 1.2.2: Select values >2\n",
    "\n",
    "print (a[bool_idx])\n",
    "\n",
    "# We can do all of the above in a single concise statement:\n",
    "print (a[a > 2])\n",
    "# note the result is 1-dimension array"
   ]
  },
  {
   "cell_type": "code",
   "execution_count": null,
   "metadata": {
    "collapsed": true
   },
   "outputs": [],
   "source": [
    "# Exercise 1.2.3: Find locations where value>2\n",
    "\n",
    "a = np.array([[1,2], [3, 4], [5, 6]])\n",
    "\n",
    "# np.where returns the locations \n",
    "# satisfying the condition\n",
    "# as a tuple of lists\n",
    "# each list gives locations at one dimension\n",
    "\n",
    "print(np.where(a>2))\n"
   ]
  },
  {
   "cell_type": "code",
   "execution_count": null,
   "metadata": {
    "collapsed": true
   },
   "outputs": [],
   "source": [
    "# Exercise 1.2.4: change values by conditions\n",
    "\n",
    "a = np.array([[4,2], [3, 4], [5, 0]])\n",
    "print(\"before change:\", a)\n",
    "\n",
    "# if a value >3, set it to 3\n",
    "a[np.where(a>3)]=3\n",
    "print(\"after change:\", a)\n",
    "\n",
    "# binarize the array, \n",
    "# if a value>3, set it to 1; otherwise, 0\n",
    "a = np.array([[4,2], [3, 4], [5, 0]])\n",
    "print(\"Binarized array:\", np.where(a>3, 1, 0))"
   ]
  },
  {
   "cell_type": "markdown",
   "metadata": {},
   "source": [
    "### 1.3. Array Math\n",
    "\n",
    "- Basic mathematical functions operate **elementwise** on arrays, and are available both as operator overloads and as functions in the numpy module\n",
    "- Pay attention to the difference between **elementwise product** and **dot product**"
   ]
  },
  {
   "cell_type": "code",
   "execution_count": null,
   "metadata": {
    "collapsed": true
   },
   "outputs": [],
   "source": [
    "# Exercise 1.3.1: array addition\n",
    "\n",
    "x = np.array([[1,2],[3,4]])\n",
    "y = np.array([[5,6],[7,8]])\n",
    "\n",
    "# Elementwise sum; both produce the array\n",
    "print (x + y)\n",
    "print (np.add(x, y))"
   ]
  },
  {
   "cell_type": "code",
   "execution_count": null,
   "metadata": {
    "collapsed": true
   },
   "outputs": [],
   "source": [
    "# Exercise 1.3.2: Subtraction\n",
    "\n",
    "x = np.array([[1,2],[3,4]])\n",
    "y = np.array([[5,6],[7,8]])\n",
    "\n",
    "#Elementwise difference; both produce the array\n",
    "print (x - y)\n",
    "print (np.subtract(x, y))"
   ]
  },
  {
   "cell_type": "code",
   "execution_count": 3,
   "metadata": {},
   "outputs": [
    {
     "name": "stdout",
     "output_type": "stream",
     "text": [
      "[[ 5 12]\n",
      " [21 32]]\n",
      "[[ 5 12]\n",
      " [21 32]]\n"
     ]
    }
   ],
   "source": [
    "# Exercise 1.3.3:  Elementwise product\n",
    "\n",
    "x = np.array([[1,2],[3,4]])\n",
    "y = np.array([[5,6],[7,8]])\n",
    "\n",
    "print (x * y)\n",
    "print (np.multiply(x, y))"
   ]
  },
  {
   "cell_type": "code",
   "execution_count": 4,
   "metadata": {},
   "outputs": [
    {
     "data": {
      "text/plain": [
       "array([[19, 22],\n",
       "       [43, 50]])"
      ]
     },
     "execution_count": 4,
     "metadata": {},
     "output_type": "execute_result"
    },
    {
     "data": {
      "text/plain": [
       "array([[19, 22],\n",
       "       [43, 50]])"
      ]
     },
     "execution_count": 4,
     "metadata": {},
     "output_type": "execute_result"
    }
   ],
   "source": [
    "# Exercise 1.3.4:  dot product\n",
    "\n",
    "x = np.array([[1,2],[3,4]])\n",
    "y = np.array([[5,6],[7,8]])\n",
    "\n",
    "np.dot(x, y)\n",
    "x.dot(y)\n",
    "\n",
    "# compare the result with Exercise 1.3.3"
   ]
  },
  {
   "cell_type": "code",
   "execution_count": null,
   "metadata": {
    "collapsed": true
   },
   "outputs": [],
   "source": [
    "# Exercise 1.3.4:  Elementwise division\n",
    "\n",
    "print (x / y)\n",
    "print (np.divide(x, y))\n"
   ]
  },
  {
   "cell_type": "code",
   "execution_count": null,
   "metadata": {
    "collapsed": true
   },
   "outputs": [],
   "source": [
    "# Exercise 1.3.5:  Elementwise square/square root\n",
    "x = np.array([[1,2],[3,4]])\n",
    "np.sqrt(x)"
   ]
  },
  {
   "cell_type": "markdown",
   "metadata": {},
   "source": [
    "### 1.4. Other useful array functions\n",
    "\n",
    "- Numpy provides many useful functions for performing computations on arrays\n",
    "    - **sum/mean/min/max/std**  along different dimensions\n",
    "    - **transpose**\n",
    "    - ** reshape **\n",
    "    - ** sort ** and **argsort**"
   ]
  },
  {
   "cell_type": "code",
   "execution_count": 5,
   "metadata": {},
   "outputs": [
    {
     "data": {
      "text/plain": [
       "array([[1, 2],\n",
       "       [3, 4],\n",
       "       [3, 5]])"
      ]
     },
     "execution_count": 5,
     "metadata": {},
     "output_type": "execute_result"
    },
    {
     "name": "stdout",
     "output_type": "stream",
     "text": [
      "sum of all elements: 18\n",
      "sum of each column: [ 7 11]\n",
      "sum of each row: [3 7 8]\n",
      "row sum matrix: [[3]\n",
      " [7]\n",
      " [8]]\n",
      "row sum matrix shape: (3, 1)\n"
     ]
    }
   ],
   "source": [
    "# Exercise 1.4.1:  array sum/mean/max/min/std\n",
    "\n",
    "x = np.array([[1,2],[3,4],[3,5]])\n",
    "x\n",
    "# Compute sum of all elements; prints \"10\"\n",
    "print (\"sum of all elements:\",np.sum(x))  \n",
    "\n",
    "# Compute sum of each column\n",
    "# return 1-dimension array\n",
    "print (\"sum of each column:\", np.sum(x, axis=0))  \n",
    "\n",
    "# Compute sum of each row\n",
    "# return 1-dimension array\n",
    "print (\"sum of each row:\", np.sum(x, axis=1))  \n",
    "\n",
    "# Compute sum of each row\n",
    "# return 2-dimension matrix\n",
    "row_sum_matrix=np.sum(x, axis=1, keepdims=True)\n",
    "print (\"row sum matrix:\", row_sum_matrix ) \n",
    "print (\"row sum matrix shape:\", row_sum_matrix.shape )\n"
   ]
  },
  {
   "cell_type": "code",
   "execution_count": 6,
   "metadata": {},
   "outputs": [
    {
     "name": "stdout",
     "output_type": "stream",
     "text": [
      "shape of x: (3, 2)\n",
      "transpose of x: [[1 3 5]\n",
      " [2 4 6]]\n",
      "shape of the transpose of x: (2, 3)\n"
     ]
    }
   ],
   "source": [
    "# Exercise 1.4.2:  Array transpose\n",
    "x = np.array([[1,2],[3,4],[5,6]])\n",
    "print(\"shape of x:\", x.shape)\n",
    "print (\"transpose of x:\", x.T)\n",
    "print(\"shape of the transpose of x:\", x.T.shape)"
   ]
  },
  {
   "cell_type": "code",
   "execution_count": 7,
   "metadata": {},
   "outputs": [
    {
     "name": "stdout",
     "output_type": "stream",
     "text": [
      "reshape to 2x3 matrix: [[1 2 3]\n",
      " [4 5 6]]\n",
      "flatten x: [1 2 3 4 5 6]\n"
     ]
    }
   ],
   "source": [
    "# Exercise 1.4.2:  Array reshape\n",
    "\n",
    "x = np.array([[1,2],[3,4],[5,6]])\n",
    "\n",
    "# reshape it to 2x3 matrix\n",
    "print(\"reshape to 2x3 matrix:\", np.reshape(x, (2,3)))\n",
    "# note that this is different from transpose\n",
    "\n",
    "# flatten the matrix into 1-dimension array\n",
    "print (\"flatten x:\", np.reshape(x, -1))"
   ]
  },
  {
   "cell_type": "code",
   "execution_count": 9,
   "metadata": {},
   "outputs": [
    {
     "name": "stdout",
     "output_type": "stream",
     "text": [
      "[[2 8]\n",
      " [3 4]\n",
      " [2 5]]\n",
      "[[3 2]\n",
      " [5 2]\n",
      " [8 4]]\n"
     ]
    },
    {
     "data": {
      "text/plain": [
       "array([[8, 4],\n",
       "       [5, 2],\n",
       "       [3, 2]])"
      ]
     },
     "execution_count": 9,
     "metadata": {},
     "output_type": "execute_result"
    }
   ],
   "source": [
    "# Exercise 1.4.3:  Array sort \n",
    "\n",
    "x = np.array([[8,2],[3,4],[5,2]])\n",
    "\n",
    "# sort each row of the matrix\n",
    "print(np.sort(x))\n",
    "\n",
    "# sort each column of the matrix\n",
    "print(np.sort(x, axis=0))\n",
    "\n",
    "# how to sort in descending order?\n",
    "\n",
    "np.sort(x, axis=0)[::-1,:]"
   ]
  },
  {
   "cell_type": "code",
   "execution_count": 12,
   "metadata": {},
   "outputs": [
    {
     "data": {
      "text/plain": [
       "array([[8, 2, 5, 6, 1],\n",
       "       [3, 4, 1, 2, 6]])"
      ]
     },
     "execution_count": 12,
     "metadata": {},
     "output_type": "execute_result"
    },
    {
     "name": "stdout",
     "output_type": "stream",
     "text": [
      "[[4 1 2 3 0]\n",
      " [2 3 0 1 4]]\n"
     ]
    },
    {
     "data": {
      "text/plain": [
       "array([[0, 3, 2],\n",
       "       [4, 1, 0]])"
      ]
     },
     "execution_count": 12,
     "metadata": {},
     "output_type": "execute_result"
    }
   ],
   "source": [
    "# Exercise 1.4.4:  Array argsort\n",
    "\n",
    "x = np.array([[8,2,5,6,1],[3,4,1,2,6]])\n",
    "x\n",
    "# sort each row and return the **original value index**\n",
    "# in an array of the same shape as x\n",
    "x1=np.argsort(x)\n",
    "print(x1)\n",
    "\n",
    "# How can this function be useful?\n",
    "\n",
    "# how to find where the top 3 values in each row are? \n",
    "x1[:,::-1][:,0:3]\n",
    "# how to find where the top 1 value in each column is?\n"
   ]
  },
  {
   "cell_type": "code",
   "execution_count": 22,
   "metadata": {},
   "outputs": [
    {
     "data": {
      "text/plain": [
       "array([1, 4, 7, 2, 6])"
      ]
     },
     "execution_count": 22,
     "metadata": {},
     "output_type": "execute_result"
    },
    {
     "data": {
      "text/plain": [
       "array([[0, 1, 0, 1, 1],\n",
       "       [1, 0, 1, 0, 1],\n",
       "       [0, 1, 1, 1, 1]])"
      ]
     },
     "execution_count": 22,
     "metadata": {},
     "output_type": "execute_result"
    },
    {
     "data": {
      "text/plain": [
       "array([1, 2, 2, 2, 3])"
      ]
     },
     "execution_count": 22,
     "metadata": {},
     "output_type": "execute_result"
    },
    {
     "data": {
      "text/plain": [
       "array([[0, 2, 0, 1, 2],\n",
       "       [1, 0, 4, 0, 2],\n",
       "       [0, 2, 3, 1, 2]])"
      ]
     },
     "execution_count": 22,
     "metadata": {},
     "output_type": "execute_result"
    },
    {
     "data": {
      "text/plain": [
       "array([[0, 2, 3, 1, 4],\n",
       "       [1, 3, 0, 4, 2],\n",
       "       [0, 3, 1, 4, 2]])"
      ]
     },
     "execution_count": 22,
     "metadata": {},
     "output_type": "execute_result"
    },
    {
     "data": {
      "text/plain": [
       "array([[4, 1, 3],\n",
       "       [2, 4, 0],\n",
       "       [2, 4, 1]])"
      ]
     },
     "execution_count": 22,
     "metadata": {},
     "output_type": "execute_result"
    }
   ],
   "source": [
    "# Exercise 1.4.5: Term-Frequency Matrix:\n",
    "# each row is a document\n",
    "# each column is a word\n",
    "# value at [i,j] is the count of word j in document i\n",
    "\n",
    "tf=np.array([[0,2,0,1,2], [1,0,4,0,2], [0,2,3,1,2]])\n",
    "\n",
    "# 1. Count total occurrences of each word\n",
    "np.sum(tf, axis=0)\n",
    "# 2. Fill the term-frequency matrix \n",
    "#    with binary values (1: present, 0: not present)\n",
    "x=np.where(tf>0,1,0)\n",
    "x\n",
    "# 3. count document frequency of each word \n",
    "#    i.e. the number of documents that contain the word\n",
    "np.sum(x, axis=0)\n",
    "# 4. Find the most frequent word in each document\n",
    "y=np.argsort(tf)\n",
    "tf\n",
    "y\n",
    "y[:,::-1][:,0:3]"
   ]
  },
  {
   "cell_type": "markdown",
   "metadata": {},
   "source": [
    "### 1.5. Broadcasting\n",
    "- Broadcasting is a powerful mechanism that allows numpy to work with arrays of different shapes when performing arithmetic operations\n",
    "- Frequently we have a smaller array and a larger array, and we want to use the smaller array multiple times to perform some operation on the larger array.\n",
    "- Examples:\n",
    "    - add/subtract a constant vector to each row of a matrix \n",
    "        * e.g. during data normalization, subtract each samples by mean vector\n",
    "    - multiply/divide each row of matrix by a vector (1-dimension array)\n",
    "        * e.g. divide sample by std vector   \n",
    "- It would be very inefficient to use a loop to achieve this given a large matrix\n"
   ]
  },
  {
   "cell_type": "code",
   "execution_count": 23,
   "metadata": {},
   "outputs": [
    {
     "name": "stdout",
     "output_type": "stream",
     "text": [
      "time used: 0.0137 ms\n"
     ]
    },
    {
     "data": {
      "text/plain": [
       "array([ 0.92725506,  1.04598962,  0.21844353,  0.47926389])"
      ]
     },
     "execution_count": 23,
     "metadata": {},
     "output_type": "execute_result"
    },
    {
     "name": "stdout",
     "output_type": "stream",
     "text": [
      "time used: 0.0004 ms\n"
     ]
    },
    {
     "data": {
      "text/plain": [
       "array([ 0.92725506,  1.04598962,  0.21844353,  0.47926389])"
      ]
     },
     "execution_count": 23,
     "metadata": {},
     "output_type": "execute_result"
    }
   ],
   "source": [
    "# Exercise 1.5.1:  Successful broadcasting\n",
    "\n",
    "# Add the vector B to each row of A\n",
    "\n",
    "import time\n",
    "\n",
    "A = np.random.random((10000,4))\n",
    "B = np.array([0.2,0.1,0.04,0.03])\n",
    "\n",
    "# By loop:\n",
    "Z=np.zeros((10000,4))\n",
    "\n",
    "start=time.time()   # get starting time\n",
    "for idx in range(A.shape[0]):\n",
    "    Z[idx]=A[idx]+B\n",
    "print(\"time used: %.4f ms\"%(time.time()-start))\n",
    "Z[0]\n",
    "\n",
    "# By Broadcasting\n",
    "start=time.time()\n",
    "Z = A + B\n",
    "print(\"time used: %.4f ms\"%(time.time()-start))\n",
    "Z[0]"
   ]
  },
  {
   "cell_type": "code",
   "execution_count": 24,
   "metadata": {},
   "outputs": [
    {
     "ename": "ValueError",
     "evalue": "operands could not be broadcast together with shapes (4,3) (4,) ",
     "output_type": "error",
     "traceback": [
      "\u001b[0;31m---------------------------------------------------------------------------\u001b[0m",
      "\u001b[0;31mValueError\u001b[0m                                Traceback (most recent call last)",
      "\u001b[0;32m<ipython-input-24-a624695ef287>\u001b[0m in \u001b[0;36m<module>\u001b[0;34m()\u001b[0m\n\u001b[1;32m      4\u001b[0m \u001b[0mA\u001b[0m \u001b[0;34m=\u001b[0m \u001b[0mnp\u001b[0m\u001b[0;34m.\u001b[0m\u001b[0marray\u001b[0m\u001b[0;34m(\u001b[0m\u001b[0;34m[\u001b[0m\u001b[0;34m[\u001b[0m\u001b[0;36m1\u001b[0m\u001b[0;34m,\u001b[0m\u001b[0;36m2\u001b[0m\u001b[0;34m,\u001b[0m\u001b[0;36m3\u001b[0m\u001b[0;34m]\u001b[0m\u001b[0;34m,\u001b[0m \u001b[0;34m[\u001b[0m\u001b[0;36m4\u001b[0m\u001b[0;34m,\u001b[0m\u001b[0;36m5\u001b[0m\u001b[0;34m,\u001b[0m\u001b[0;36m6\u001b[0m\u001b[0;34m]\u001b[0m\u001b[0;34m,\u001b[0m \u001b[0;34m[\u001b[0m\u001b[0;36m7\u001b[0m\u001b[0;34m,\u001b[0m\u001b[0;36m8\u001b[0m\u001b[0;34m,\u001b[0m\u001b[0;36m9\u001b[0m\u001b[0;34m]\u001b[0m\u001b[0;34m,\u001b[0m \u001b[0;34m[\u001b[0m\u001b[0;36m10\u001b[0m\u001b[0;34m,\u001b[0m \u001b[0;36m11\u001b[0m\u001b[0;34m,\u001b[0m \u001b[0;36m12\u001b[0m\u001b[0;34m]\u001b[0m\u001b[0;34m]\u001b[0m\u001b[0;34m)\u001b[0m\u001b[0;34m\u001b[0m\u001b[0m\n\u001b[1;32m      5\u001b[0m \u001b[0mB\u001b[0m \u001b[0;34m=\u001b[0m \u001b[0mnp\u001b[0m\u001b[0;34m.\u001b[0m\u001b[0marray\u001b[0m\u001b[0;34m(\u001b[0m\u001b[0;34m[\u001b[0m\u001b[0;36m1\u001b[0m\u001b[0;34m,\u001b[0m \u001b[0;36m0\u001b[0m\u001b[0;34m,\u001b[0m \u001b[0;36m1\u001b[0m\u001b[0;34m,\u001b[0m \u001b[0;36m4\u001b[0m\u001b[0;34m]\u001b[0m\u001b[0;34m)\u001b[0m\u001b[0;34m\u001b[0m\u001b[0m\n\u001b[0;32m----> 6\u001b[0;31m \u001b[0mZ\u001b[0m \u001b[0;34m=\u001b[0m \u001b[0mA\u001b[0m \u001b[0;34m+\u001b[0m \u001b[0mB\u001b[0m\u001b[0;34m\u001b[0m\u001b[0m\n\u001b[0m\u001b[1;32m      7\u001b[0m \u001b[0mprint\u001b[0m \u001b[0;34m(\u001b[0m\u001b[0mZ\u001b[0m\u001b[0;34m)\u001b[0m\u001b[0;34m\u001b[0m\u001b[0m\n",
      "\u001b[0;31mValueError\u001b[0m: operands could not be broadcast together with shapes (4,3) (4,) "
     ]
    }
   ],
   "source": [
    "# Exercise 1.5.2:  Failed broadcasting\n",
    "\n",
    "# Add a vector to each column of A\n",
    "A = np.array([[1,2,3], [4,5,6], [7,8,9], [10, 11, 12]])\n",
    "B = np.array([1, 0, 1, 4])\n",
    "Z = A + B  \n",
    "print (Z)\n"
   ]
  },
  {
   "cell_type": "markdown",
   "metadata": {},
   "source": [
    "### 1.6. Broadcasting Rules:\n",
    "1. Assume two arrays A and B. \n",
    "   - <font color='blue'>For example, A has size(10000, 4), B has size (4,). A has rank 2, and B has rank 1</font>\n",
    "2. If the arrays do not have the same rank, prepend the shape of the lower rank array with 1s until both shapes have the same length.\n",
    "    - <font color='blue'>Padding 1 to the left of the shape of B. So B's shape becomes (1,4)</font>\n",
    "3. The two arrays are said to be **compatible** in a dimension **if they have the same size in the dimension, or if one of the arrays has size 1 in that dimension**. If compatible, continue to Step 4; otherwise stop and raise an error\n",
    "    \n",
    "    - <font color='blue'> Compare the shapes of A and B in each dimension: </font>\n",
    "       * <font color='blue'>Dimension 1: A is 10000 and B is 1 => compatible </font>   \n",
    "       * <font color='blue'> Dimension 2: A is 4 and B is 4 => compatible</font> \n",
    "    - <font color='blue'> So, A and B are compatible in every dimension</font>\n",
    "4. After broadcasting, each array behaves as if it had shape equal to the elementwise maximum of shapes of the two input arrays.\n",
    "    - <font color='blue'> After brodcasting, B's shape => (10000,4)</font>\n",
    "5. In any dimension where one array had size 1 and the other array had size greater than 1, the first array behaves as if it were copied along that dimension\n",
    "    - <font color='blue'> Suppose B=([1, 0, 1]). After broadcasting, B => ([1, 0, 1],[1, 0, 1],...)</font>\n",
    "6. Apply array math using B after broadcasting"
   ]
  },
  {
   "cell_type": "code",
   "execution_count": 25,
   "metadata": {},
   "outputs": [
    {
     "name": "stdout",
     "output_type": "stream",
     "text": [
      "[[ 2  3  4]\n",
      " [ 4  5  6]\n",
      " [ 8  9 10]\n",
      " [14 15 16]]\n"
     ]
    }
   ],
   "source": [
    "# Exercise 1.5.3:  revisit Exercise 1.5.3\n",
    "\n",
    "# Add a vector to each column of A\n",
    "A = np.array([[1,2,3], [4,5,6], [7,8,9], [10, 11, 12]])\n",
    "B = np.array([1, 0, 1, 4])\n",
    "\n",
    "# A's shape (4,3), B's shape (1,4)\n",
    "# It's incompatible with A at the 2nd dimension\n",
    "\n",
    "# However, after transpose A\n",
    "# they are compatible\n",
    "Z = A.T + B  \n",
    "print (Z.T)"
   ]
  },
  {
   "cell_type": "code",
   "execution_count": 28,
   "metadata": {},
   "outputs": [
    {
     "data": {
      "text/plain": [
       "(5,)"
      ]
     },
     "execution_count": 28,
     "metadata": {},
     "output_type": "execute_result"
    },
    {
     "data": {
      "text/plain": [
       "4086.5599999999999"
      ]
     },
     "execution_count": 28,
     "metadata": {},
     "output_type": "execute_result"
    },
    {
     "data": {
      "text/plain": [
       "4086.5599999999999"
      ]
     },
     "execution_count": 28,
     "metadata": {},
     "output_type": "execute_result"
    }
   ],
   "source": [
    "# Exercise 1.5.4: Compute squared sample error (SSE)\n",
    "# d is the sample matrix where each row is a sample\n",
    "# SSE=(d-mean(d))^2\n",
    "\n",
    "d=np.random.randint(0,10,(100,5))  # populate random numbers between 0 and 10 in an array of size (100, 5)\n",
    "\n",
    "m=np.mean(d, axis=0)\n",
    "m.shape\n",
    "np.sum(np.square(d-m))\n",
    "np.sum((d-m)*(d-m))"
   ]
  },
  {
   "cell_type": "markdown",
   "metadata": {},
   "source": [
    "## 2. Sparse Matrix\n",
    "- Why sparse matrix\n",
    "    * In some matrixes (e.g. document-term matrix), most of the elements are zero. These matrices are called **sparse matrices**, while the ones that have mostly non-zero elements are called **dense matrices**.\n",
    "    * These matrixes usually are very big. It needs memory to store every number\n",
    "- Sparse matrix: a matrix that **only stores non-zero elements**. \n",
    "- Scipy package provides different types of sparse matrix. Commonly used types:\n",
    "    * csc_matrix: Compressed Sparse Column format\n",
    "    * csr_matrix: Compressed Sparse Row format\n",
    "- Sparse matrixes can be manipulated almost in the same way as a dense matrix. Check https://docs.scipy.org/doc/scipy/reference/sparse.html for functions for sparse matrixes."
   ]
  },
  {
   "cell_type": "code",
   "execution_count": 30,
   "metadata": {},
   "outputs": [
    {
     "name": "stdout",
     "output_type": "stream",
     "text": [
      "  (0, 0)\t1\n",
      "  (1, 2)\t3\n",
      "  (2, 0)\t4\n",
      "  (2, 2)\t5\n",
      "3\n"
     ]
    },
    {
     "data": {
      "text/plain": [
       "(3, 3)"
      ]
     },
     "execution_count": 30,
     "metadata": {},
     "output_type": "execute_result"
    }
   ],
   "source": [
    "# Exercise 2.1: Define a sparse matrix\n",
    "\n",
    "import numpy as np\n",
    "from scipy.sparse import csr_matrix\n",
    "A = csr_matrix([[1, 0, 0], [0, 0, 3], [4, 0, 5]])\n",
    "print(A)\n",
    "print(A[1,2])\n",
    "A.shape"
   ]
  },
  {
   "cell_type": "code",
   "execution_count": null,
   "metadata": {
    "collapsed": true
   },
   "outputs": [],
   "source": [
    "# Exercise 2.2: Sparse matrix math\n",
    "\n",
    "A = csr_matrix([[1, 0, 0], [0, 0, 3], [4, 0, 5]])\n",
    "v = np.array([1, 0, -1])\n",
    "A.dot(v)"
   ]
  },
  {
   "cell_type": "code",
   "execution_count": null,
   "metadata": {
    "collapsed": true
   },
   "outputs": [],
   "source": []
  }
 ],
 "metadata": {
  "kernelspec": {
   "display_name": "Python 3",
   "language": "python",
   "name": "python3"
  },
  "language_info": {
   "codemirror_mode": {
    "name": "ipython",
    "version": 3
   },
   "file_extension": ".py",
   "mimetype": "text/x-python",
   "name": "python",
   "nbconvert_exporter": "python",
   "pygments_lexer": "ipython3",
   "version": "3.6.1"
  }
 },
 "nbformat": 4,
 "nbformat_minor": 2
}
