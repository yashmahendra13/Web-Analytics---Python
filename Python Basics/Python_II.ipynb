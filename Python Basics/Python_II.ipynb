{
 "cells": [
  {
   "cell_type": "markdown",
   "metadata": {},
   "source": [
    "# <center>Introduction to Python (II)</center>\n",
    "\n",
    "Refereces: \n",
    "- https://www.tutorialspoint.com/python"
   ]
  },
  {
   "cell_type": "markdown",
   "metadata": {},
   "source": [
    "## 6. Control Flows: if, if...else, for, while"
   ]
  },
  {
   "cell_type": "markdown",
   "metadata": {},
   "source": [
    "### 6.1. if and if...else, if...elif...else statements ###"
   ]
  },
  {
   "cell_type": "code",
   "execution_count": null,
   "metadata": {},
   "outputs": [],
   "source": [
    "# Exercise 6.1.1: if and if...else, if...elif...else statements\n",
    "\n",
    "x=100\n",
    "\n",
    "# simple if statement\n",
    "# each control line must end with colon (:) \n",
    "if x>=50:   \n",
    "    # each line in the block should be \n",
    "    # indented with the same amount                                  \n",
    "    print (\"the value of x >= 50\")   \n",
    "    print(\"done!\")\n",
    "\n",
    "# if...else statement\n",
    "if x>=200:\n",
    "    print (\"the value of x >= 200\")\n",
    "else:\n",
    "    print (\"the value of x < 200\")\n",
    "\n",
    "# if...elif...else statement\n",
    "if x>=200:\n",
    "    print (\"the value of x >= 200\")\n",
    "elif x>=50:\n",
    "    print (\"the value of x >= 50 and <200\")\n",
    "else:\n",
    "    print (\"the value of x < 50\")\n",
    "    \n",
    "# nested statements\n",
    "x=300\n",
    "y=500\n",
    "if x>=200:\n",
    "    \n",
    "    # inner \"if\" and \"else\" need to indent the same amount\n",
    "    if x>=y:                                                 \n",
    "        print (\"the value of x >= 200 and x>=y\")\n",
    "    else:\n",
    "        print (\"the value of x >= 200 and x<y\")\n",
    "else:\n",
    "    print (\"the value of x < 200\")"
   ]
  },
  {
   "cell_type": "code",
   "execution_count": null,
   "metadata": {
    "collapsed": true
   },
   "outputs": [],
   "source": [
    "# Exercise 6.1.2: use \"if...else...\" to \n",
    "# add new entries to a dictionary\n",
    "\n",
    "word_count_dict={\"python\":1,\"block\":3, \"indent\":5}\n",
    "new_word=\"control\"\n",
    "\n",
    "# if new_word is a key of word_count_dict,\n",
    "# increase this word's count by 1;\n",
    "# otherwise, add a new key in word_count_dict, and\n",
    "# set the value of this new key to 1"
   ]
  },
  {
   "cell_type": "markdown",
   "metadata": {},
   "source": [
    "### 6.2. Loop statements: while, for ###"
   ]
  },
  {
   "cell_type": "code",
   "execution_count": null,
   "metadata": {},
   "outputs": [],
   "source": [
    "# Exercise 6.2.1: simple while loop\n",
    "\n",
    "x=1\n",
    "# in each round, the condition following 'while' is evaluated       \n",
    "while x<5:    \n",
    "    # continue the block if the conidtion is true\n",
    "    print (x)           \n",
    "    x+=1\n",
    "    "
   ]
  },
  {
   "cell_type": "code",
   "execution_count": null,
   "metadata": {},
   "outputs": [],
   "source": [
    "# Exercise 6.2.2.: for loop through a list\n",
    "\n",
    "# initiate an empty list\n",
    "list1=[]  \n",
    "# loop through any iterable object, e.g. \n",
    "# list, tuple, set, dictionary\n",
    "for x in range(1,6):    \n",
    "    # append x**2 to the list\n",
    "    list1.append(x**2)  \n",
    "print (list1)\n",
    "    \n",
    "# A compact ways to use for loop in assigment\n",
    "list1=[x**2 for x in range(1,6)]\n",
    "print (\"Square of each element in [1:6]:\", list1)\n"
   ]
  },
  {
   "cell_type": "code",
   "execution_count": null,
   "metadata": {},
   "outputs": [],
   "source": [
    "# Exercise 6.2.3.:  Get index of each element during loop\n",
    "\n",
    "list1=[3,5,2,4,1]\n",
    "\n",
    "# enumerate(list1) converts a sequence to an iterator \n",
    "# which returns a tuple at a time\n",
    "# starting from (0, list1[0]), (1, list1[1]), ... to the end\n",
    "# where 0,1, .. is the index if each element in list1\n",
    "\n",
    "list2=[(idx,x) for idx,x in enumerate(list1)]  \n",
    "print(\"index and value of each element \\\n",
    "in the list as a new list of tuple :\\n\", list2)\n",
    "\n",
    "list3=[(idx,x**2) for idx,x in enumerate(list1)]   \n",
    "                                                                                                                \n",
    "print(\"index and squared value of each element \\\n",
    "in the list as a new list of tuple :\\n\", list3)"
   ]
  },
  {
   "cell_type": "code",
   "execution_count": null,
   "metadata": {},
   "outputs": [],
   "source": [
    "# Exercise 6.2.4.: # Cobmine for loop with if statement\n",
    "\n",
    "list3=[(idx,x) for idx,x in enumerate([-2,5,-9,3,-4,12,1,8]) \\\n",
    "       if x>0]\n",
    "\n",
    "print(\"\\nget each **positive** element and its index \\\n",
    "in the list as a list of tuple\")\n",
    "print (list3)\n",
    "\n"
   ]
  },
  {
   "cell_type": "code",
   "execution_count": null,
   "metadata": {},
   "outputs": [],
   "source": [
    "# Exercise 6.2.5.: Find the index of a repeated value\n",
    "\n",
    "list1=['a','b','c','a','d','a']\n",
    "\n",
    "# task 1: find the indexes of all \"a\"\n",
    "\n",
    "# task 2: remove all \"a\" from list1\n",
    "#         hint: you can create a new list to \n",
    "#         hold all values without \"a\""
   ]
  },
  {
   "cell_type": "code",
   "execution_count": null,
   "metadata": {},
   "outputs": [],
   "source": [
    "# Exercise 6.2.6.: loop through the the dictionary\n",
    "\n",
    "dict1={1: 'a', 2:\"b\", 3:\"c\", 4:\"d\", 5:\"e\"}\n",
    "\n",
    "keys=[x for x in dict1]                             \n",
    "# loop through each key of a dictionary\n",
    "# This is equivalent to dict1.keys()\n",
    "print(\"\\nget the keys in the dictionary as a list\")\n",
    "print (keys)\n",
    "\n",
    "print(\"\\nget the values in the dictionary as a list\")\n",
    "values=[dict1[x] for x in dict1]                     \n",
    "# loop through each key and then get the value through key\n",
    "# this is equivalent to dict1.values()\n",
    "print (values)"
   ]
  },
  {
   "cell_type": "code",
   "execution_count": null,
   "metadata": {},
   "outputs": [],
   "source": [
    "# Exercise 6.2.7.: Use loop to create a dictionary\n",
    "\n",
    "list1=[1,3,2,3,4,3,4]\n",
    "\n",
    "# get the count of each number as a dictionary\n",
    "# hint: you can reuse your solution to Exercise 6.1.2 \n",
    "\n",
    "count_dict={}  # empty dictionary\n",
    "\n",
    "\n",
    "# any compact way to achieve this?"
   ]
  },
  {
   "cell_type": "code",
   "execution_count": null,
   "metadata": {
    "collapsed": true
   },
   "outputs": [],
   "source": [
    "# Exercise 6.2.8.: nested loops\n",
    "\n",
    "print(\"\\nnested loops\")\n",
    "for x in range(1,3):    \n",
    "    for y in [1.2, 3.5]:\n",
    "        print (x*y)\n",
    "\n",
    "# a compact way to nest loops\n",
    "xy=[x*y for x in range(1,3) for y in [1.2, 3.5]]    \n",
    "\n",
    "print (xy)"
   ]
  },
  {
   "cell_type": "markdown",
   "metadata": {},
   "source": [
    "### 6.3. Loop Control Statements ###\n",
    "*  **break**: terminates the loop and executes the statement immediately following the loop\n",
    "*  **continue**: causes the loop to skip the rest of its body and immediately starts another round"
   ]
  },
  {
   "cell_type": "code",
   "execution_count": null,
   "metadata": {},
   "outputs": [],
   "source": [
    "# Exercise 6.3.1.: break control\n",
    "\n",
    "list1=[]   \n",
    "list2=[]\n",
    "for x in range(1,8):  \n",
    "    list1.append(x**2)\n",
    "    # break if x**2 is greater than 20\n",
    "    if x**2>20:                 \n",
    "        break\n",
    "    list2.append(x**2)  \n",
    "\n",
    "# list1 has 25 (i.e. x=5) appended before the break\n",
    "print (list1)                    \n",
    "# list2 does not have 25 since \"break\" happened before \"append\"\n",
    "print (list2)                    "
   ]
  },
  {
   "cell_type": "code",
   "execution_count": null,
   "metadata": {},
   "outputs": [],
   "source": [
    "# Exercise 6.3.2.: break if you get the value you need\n",
    "\n",
    "# Create a number series starting from 1, e.g. 1,2,3,..., 100\n",
    "# Fetch each number until the sum of all \n",
    "# the numbers you have reaches 100 (i.e. >=100).\n"
   ]
  },
  {
   "cell_type": "code",
   "execution_count": null,
   "metadata": {},
   "outputs": [],
   "source": [
    "# Exercise 6.3.3: continue control\n",
    "\n",
    "list1=[]   \n",
    "list2=[]\n",
    "for x in range(1,8):  \n",
    "    list1.append(x**2)\n",
    "    # break if x**2 is greater than 20\n",
    "    if x**2>20:                  \n",
    "        continue\n",
    "    list2.append(x**2)  \n",
    "    \n",
    "# list1 has all 7 elements appended \n",
    "print (list1)   \n",
    "# list2 stopped growing before x=5 since \n",
    "# \"continue\" happened before \"append\"\n",
    "print (list2)                    \n"
   ]
  },
  {
   "cell_type": "markdown",
   "metadata": {},
   "source": [
    "## 7. Function\n",
    " - A blok of code that can be reused\n",
    " - Function blocks begin with the keyword **<font color=blue>def</font>** followed by the function name \n",
    " - Input parameters or arguments should be placed within parentheses ( ).\n",
    " - A default argument is an argument that assumes a default value if a value is not provided in the function call for that argument.\n",
    " - The code block starts with a colon (:) and is indented.\n",
    " - The statement **<font color=blue>return</font>** exits a function. A return statement with no arguments is the same as return None."
   ]
  },
  {
   "cell_type": "code",
   "execution_count": null,
   "metadata": {},
   "outputs": [],
   "source": [
    "# Exercise 7.1: Define a simple function  \n",
    "\n",
    "# define a converter between Fahrenheit and Celsius\n",
    "# t: the input temperature\n",
    "# F_or_C: whether t is in Fahrenheit or Celsius\n",
    "# the default value for F_or_C is \"C\"\n",
    "\n",
    "def temperature_converter(t, F_or_C='C'):\n",
    "    # initiate result variable to None \n",
    "    result=None\n",
    "    if F_or_C=='F':\n",
    "        result=(t-32)*5.0/9.0\n",
    "    else: \n",
    "        result=(t*9.0/5.0)+32\n",
    "    return result\n",
    "\n",
    "# call the function\n",
    "f_to_c=temperature_converter(90, 'F')\n",
    "print(f_to_c)\n",
    "\n",
    "# note 2nd parameter is omitted here\n",
    "c_to_f=temperature_converter(20)\n",
    "print(c_to_f)\n",
    "\n",
    "# call the function in a for loop\n",
    "c_to_f=[temperature_converter(c, 'C') for c in [0,25,30]]\n",
    "print(c_to_f)"
   ]
  },
  {
   "cell_type": "code",
   "execution_count": null,
   "metadata": {},
   "outputs": [],
   "source": [
    "# Exercise 7.2.: Define a function to\n",
    "# remove all occurrences of a value from a list \n",
    "# Requirements:\n",
    "# 1. two input parameters, a list and a value\n",
    "# 2. return a list that does not contain the value\n",
    "#    e.g. if inputs are [1,3,2,2] and 2, the return\n",
    "#    should be [1,3]\n",
    "\n",
    "l=[1,3,2,2]\n",
    "\n"
   ]
  },
  {
   "cell_type": "code",
   "execution_count": null,
   "metadata": {},
   "outputs": [],
   "source": [
    "# Is it possible to do in this way:\n",
    "\n",
    "def remove_all(aList, v):\n",
    "    for x in aList:\n",
    "        if x==v:\n",
    "            aList.remove(v)\n",
    "    return aList\n",
    "\n",
    "# try this:\n",
    "L=[1,3,2,2]\n",
    "print(\"remove 3: \", remove_all(L,3))\n",
    "\n",
    "L=[1,3,2,2]\n",
    "print(\"remove 2: \", remove_all(L,2))\n"
   ]
  },
  {
   "cell_type": "markdown",
   "metadata": {},
   "source": [
    "### 7.1. Global vs. Local variables ###\n",
    "* **Local variables**: variables defined inside a function body have a local scope and are accessed only inside the function\n",
    "* **Global variables**: variables defined outside of a function have a global scope and are accessed throughout the program body by all functions"
   ]
  },
  {
   "cell_type": "code",
   "execution_count": null,
   "metadata": {},
   "outputs": [],
   "source": [
    "# Exercise 7.1.1.: local vs. global variables\n",
    "\n",
    "total=0  # global variable\n",
    "def sum( arg1, arg2 ):\n",
    "   total = arg1 + arg2 # Here total is local variable.\n",
    "   print (\"Inside the function local total : \", total)\n",
    "   return total;\n",
    "\n",
    "# Now you can call sum function\n",
    "sum( 10, 20 );\n",
    "print (\"Outside the function global total : \", total) \n"
   ]
  },
  {
   "cell_type": "markdown",
   "metadata": {},
   "source": [
    "### 7.2. Function parameters###\n",
    "<div class=\"alert alert-block alert-info\">All parameters in the Python language are passed **by reference**. It means if you change what a parameter refers to within a function, the change also reflects back in the calling function. <br>\n",
    "**by reference**: the called functions' parameter will be the same as the callers' passed argument (not the value, but the identity - the variable itself). <br>\n",
    "**by value**: the called functions' parameter will be a copy of the callers' passed argument</div>"
   ]
  },
  {
   "cell_type": "code",
   "execution_count": null,
   "metadata": {},
   "outputs": [],
   "source": [
    "# Exercise 7.2.1: function parameter: by reference or by value?\n",
    "\n",
    "def changeme( mylist ):\n",
    "   # \"This changes a passed list into this function\"\n",
    "   mylist.append([1,2,3,4]);\n",
    "   print (\"Values inside the function: \", mylist)\n",
    "   return mylist\n",
    "\n",
    "# Now you can call changeme function\n",
    "mylist = [10,20,30];\n",
    "newlist=changeme( mylist );\n",
    "print (\"Values outside the function: \", mylist)\n"
   ]
  },
  {
   "cell_type": "markdown",
   "metadata": {},
   "source": [
    "## 8. Class ##\n",
    "\n",
    "- A class can be viewed as a type of complex objects that contains variables and functions.\n",
    "- Basic components of a class\n",
    "  * Constructor: the method to initialize a class to create an object or class instance\n",
    "  * Variables (a.k.a attributes)\n",
    "  * Functions (a.k.a methods)\n",
    "- These components can be accessed using \"**.**\" (e.g. myShape.color)"
   ]
  },
  {
   "cell_type": "code",
   "execution_count": null,
   "metadata": {},
   "outputs": [],
   "source": [
    "# Exercise 8.1.: Define a class and use the class\n",
    "\n",
    "# define a class\n",
    "class Shape(object):\n",
    "    \n",
    "    # constructor, \"self\" refers to the object itself\n",
    "    def __init__(self, color):  \n",
    "        # class variable is assigned with input value\n",
    "        self.color = color               \n",
    "        print('color is set to: ', self.color)\n",
    "        \n",
    "    # function (or method) of the class\n",
    "    def changeColor(self, newColor):   \n",
    "        self.color=newColor\n",
    "        return \"New color is \"+self.color\n",
    "    \n",
    "    # note \"self\" must be in every function of the class \n",
    "    \n",
    "# use the class\n",
    "# initiate a shape instance\n",
    "myshape=Shape('red') \n",
    "\n",
    "# call class attribute\n",
    "print(myshape.color)  \n",
    "\n",
    "# invoke class method \"changeColor\"\n",
    "print(myshape.changeColor('blue'))  \n",
    "\n",
    "# check what color the instance has\n",
    "print(myshape.color)  "
   ]
  },
  {
   "cell_type": "markdown",
   "metadata": {},
   "source": [
    "### 8.1. Class Inheritance ###\n",
    "\n",
    "- A class (i.e. child class) can inherit from another class (i.e. superclass):\n",
    "  - attributes\n",
    "  - methods\n",
    "- There exists a hierarchy relationship between classes. It's similar to relationships or categorizations that we know from real life. \n",
    "  - e.g. Vehicle (supperclass) vs. cars and buses (child class) "
   ]
  },
  {
   "cell_type": "code",
   "execution_count": null,
   "metadata": {},
   "outputs": [],
   "source": [
    "# Exercise 8.1.1: define a Square class based on Shape \n",
    "class Square(Shape):\n",
    "    \n",
    "    # constructor\n",
    "    def __init__(self, color, edge):\n",
    "        # call superclass' constructor\n",
    "        Shape.__init__(self, color)\n",
    "        # initialize another variable\n",
    "        self.edge = edge\n",
    "    \n",
    "    # define a new function getArea \n",
    "    def getArea(self):\n",
    "        return self.edge*self.edge\n",
    "    \n",
    "# use Square class\n",
    "my_square=Square('green', 4)\n",
    "\n",
    "# get square area\n",
    "print(my_square.getArea())\n",
    "\n",
    "# get square color\n",
    "print(my_square.color)\n",
    "\n",
    "# change square color\n",
    "print(my_square.changeColor(\"blue\"))"
   ]
  },
  {
   "cell_type": "code",
   "execution_count": null,
   "metadata": {
    "collapsed": true
   },
   "outputs": [],
   "source": [
    "# Exercise 8.1.2: define a Circle class based on Shape \n",
    "# Requirements:\n",
    "# 1. Add a new parameter, diameter\n",
    "# 2. Define getArea function to calculate the area of a circle\n",
    "# 3. Initialize a circle instance with color green and diameter 5\n",
    "# 4. Print out the circle's area and diameter"
   ]
  },
  {
   "cell_type": "markdown",
   "metadata": {},
   "source": [
    "## 9. Modules ### \n",
    "*  Any python source file can be used as a module\n",
    "*  Modules are imported to source files using **<font color=blue>import</font>**\n",
    "*  The imported modules need to be located in the module search paths, which contains the following by default: \n",
    "   * the current directory.\n",
    "   * directories listed in the shell variable PYTHONPATH.\n",
    "   * system python path, e.g. sys.path"
   ]
  },
  {
   "cell_type": "code",
   "execution_count": null,
   "metadata": {},
   "outputs": [],
   "source": [
    "# Exercise 9.1.: Importing modules\n",
    "\n",
    "# import the entire math module\n",
    "import math                                   \n",
    " \n",
    "x=2.15 \n",
    "\n",
    "# floor is a function in math module\n",
    "print (math.floor(x))    \n",
    "print(math.pi)\n",
    "\n",
    "# import the only floor and exp functions from math module\n",
    "from math import floor, exp                   \n",
    "print (floor(x))"
   ]
  },
  {
   "cell_type": "code",
   "execution_count": null,
   "metadata": {},
   "outputs": [],
   "source": [
    "# Exercise 9.2.: Import your own module\n",
    "\n",
    "# assume you defined a module say simple_module.py, located at \n",
    "# /Users/rliu/course/web_analytics/my_modules/simple_module.py\n",
    "# to use your module, use the following\n",
    "\n",
    "import sys\n",
    "\n",
    "# Append simple_module location to python search path\n",
    "sys.path.append('/Users/rliu/course/BIA-660/2018Spring/Python/my_module')   \n",
    "\n",
    "# import your simple_module and give another name \"m\"\n",
    "# or you can import specific functions \n",
    "# or classes in your module\n",
    "import simple_module as m   \n",
    "\n",
    "# call the greet function\n",
    "m.greet()     \n",
    "\n",
    "# initialize the import Circle class\n",
    "my_square=m.Square('green',8)\n",
    "print(my_square.getArea())"
   ]
  },
  {
   "cell_type": "code",
   "execution_count": null,
   "metadata": {
    "collapsed": true
   },
   "outputs": [],
   "source": [
    "# Exercise 9.3.: Import your own module\n",
    "# Requirement:\n",
    "# 1. Create a .py file to contain the following:\n",
    "#    - the function you defined in Exercise 7.2\n",
    "#    - the circle class you defined in Exercise 8.1.2, \n",
    "#      including both superclass and subclass\n",
    "# 2. Import your .py file\n",
    "# 3. Invoke your function and initialize your class"
   ]
  },
  {
   "cell_type": "markdown",
   "metadata": {},
   "source": [
    "## 10. File Input/Output ###"
   ]
  },
  {
   "cell_type": "code",
   "execution_count": null,
   "metadata": {
    "collapsed": true
   },
   "outputs": [],
   "source": [
    "# Exercise 10.1.: write data to a file\n",
    "\n",
    "lines=[\"Python is a great language\\n\",\"Yeah it's great!!\\n\"]\n",
    "# open a file in \"w\" (writing) mode. \n",
    "# foo.txt will be saved to your current working folder\n",
    "f = open(\"foo.txt\", \"w\")                       \n",
    "\n",
    "# write all lines to file\n",
    "f.writelines(lines);                           \n",
    "\n",
    "# Close opened file\n",
    "f.close()      \n",
    "\n",
    "# what if you already have foo.txt and \n",
    "# you want to append the content?"
   ]
  },
  {
   "cell_type": "code",
   "execution_count": null,
   "metadata": {},
   "outputs": [],
   "source": [
    "# Exercise 10.2.: read data from a file\n",
    "\n",
    "# open a file in \"r\" (reading) mode\n",
    "f = open(\"foo.txt\", \"r\")                       \n",
    "# loop through all lines\n",
    "lines=[line for line in f]                     \n",
    "print (lines)\n",
    "f.close()\n",
    "\n",
    "# read all lines in one time\n",
    "f = open(\"foo.txt\", \"r\")\n",
    "print (f.readlines())                            \n",
    "# Close opend file\n",
    "f.close()"
   ]
  },
  {
   "cell_type": "code",
   "execution_count": null,
   "metadata": {},
   "outputs": [],
   "source": [
    "# Exercise 10.3: work with csv files\n",
    "\n",
    "# csv is a package to handle csv files\n",
    "import csv                                       \n",
    "\n",
    "# write csv file\n",
    "rows=[(1,1.0), (2, 3.5), (4, 5.8), (5, 0.8)]\n",
    "\n",
    "# use \"with\" statement to automatically \n",
    "# close the file after completing the block   \n",
    "with open(\"foo.csv\", \"w\") as f:  \n",
    "    # write to a csv file delimited \n",
    "    # by \"\\t\" (you can set \",\" or other delimiters)                    \n",
    "    writer=csv.writer(f, delimiter='\\t')          \n",
    "    writer.writerows(rows)\n",
    "    \n",
    "# read csv file\n",
    "with open(\"foo.csv\", \"r\") as f:\n",
    "    # read a csv file delimited by \\t\" \n",
    "    reader=csv.reader(f, delimiter='\\t') \n",
    "    # each row is a list of strings\n",
    "    # use int/float to convert strings to numbers\n",
    "    rows=[(int(row[0]), float(row[1])) for row in reader]      \n",
    "    \n",
    "    print (rows)"
   ]
  },
  {
   "cell_type": "code",
   "execution_count": null,
   "metadata": {
    "collapsed": true
   },
   "outputs": [],
   "source": []
  }
 ],
 "metadata": {
  "anaconda-cloud": {},
  "kernelspec": {
   "display_name": "Python 3",
   "language": "python",
   "name": "python3"
  },
  "language_info": {
   "codemirror_mode": {
    "name": "ipython",
    "version": 3
   },
   "file_extension": ".py",
   "mimetype": "text/x-python",
   "name": "python",
   "nbconvert_exporter": "python",
   "pygments_lexer": "ipython3",
   "version": "3.6.1"
  }
 },
 "nbformat": 4,
 "nbformat_minor": 1
}
